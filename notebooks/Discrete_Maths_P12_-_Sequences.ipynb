{
 "cells": [
  {
   "cell_type": "markdown",
   "metadata": {
    "id": "Dajafvz5obcM",
    "label": "title"
   },
   "source": [
    "# Practical 12 &mdash; Sequences"
   ]
  },
  {
   "cell_type": "markdown",
   "metadata": {
    "id": "dGUHvpDUobcN",
    "label": "setup"
   },
   "source": [
    "## Setup"
   ]
  },
  {
   "cell_type": "code",
   "execution_count": 1,
   "metadata": {
    "cellView": "form",
    "execution": {
     "iopub.execute_input": "2020-12-16T22:06:25.492752Z",
     "iopub.status.busy": "2020-12-16T22:06:25.491789Z",
     "iopub.status.idle": "2020-12-16T22:06:25.495631Z",
     "shell.execute_reply": "2020-12-16T22:06:25.494797Z"
    },
    "id": "CXsnfskuobcN",
    "label": "bio"
   },
   "outputs": [],
   "source": [
    "#@markdown **Please enter your following details and press Shift-Enter to save:**\n",
    "your_student_number = '' #@param {type: \"string\"}\n",
    "your_name = '' #@param {type: \"string\"}"
   ]
  },
  {
   "cell_type": "code",
   "execution_count": 2,
   "metadata": {
    "execution": {
     "iopub.execute_input": "2020-12-16T22:06:25.501823Z",
     "iopub.status.busy": "2020-12-16T22:06:25.501035Z",
     "iopub.status.idle": "2020-12-16T22:06:30.852715Z",
     "shell.execute_reply": "2020-12-16T22:06:30.853300Z"
    },
    "id": "gI-1sOMPobcN",
    "label": "setup"
   },
   "outputs": [
    {
     "name": "stdout",
     "output_type": "stream",
     "text": [
      "Loading ... \n"
     ]
    },
    {
     "data": {
      "text/html": [
       "<h2>Warning: Please enter your student number and name in the cells above and click on the arrow on top-left or Shift+Enter to save data.</h2>"
      ],
      "text/plain": [
       "<IPython.core.display.HTML object>"
      ]
     },
     "execution_count": 1,
     "metadata": {},
     "output_type": "execute_result"
    }
   ],
   "source": [
    "# setup magic, do not edit this cell! Just press Shift+Enter or click on arrow at top-left\n",
    "\n",
    "from ipywidgets import interact, interactive, fixed, interact_manual\n",
    "import ipywidgets as widgets\n",
    "\n",
    "import urllib.request\n",
    "content = urllib.request.urlretrieve (\"https://kmurphy.bitbucket.io/modules/Discrete_Mathematics/resources/setup_practical_magic.py\")\n",
    "exec(open(content[0]).read())\n",
    "setup_practical(locals())"
   ]
  },
  {
   "cell_type": "markdown",
   "metadata": {
    "id": "gIumxI6cobcN",
    "label": "Introduction"
   },
   "source": [
    "---\n",
    "## Introduction\n",
    "\n",
    "In our final practical we will use python to study some sequences.\n"
   ]
  },
  {
   "cell_type": "markdown",
   "metadata": {
    "id": "33Q2c3APobcN"
   },
   "source": [
    "### Mathematics Concepts\n"
   ]
  },
  {
   "cell_type": "markdown",
   "metadata": {
    "id": "0vNLy3ZBobcO"
   },
   "source": [
    "### Python Concepts\n"
   ]
  },
  {
   "cell_type": "markdown",
   "metadata": {
    "id": "gE6P3C-VobcO"
   },
   "source": [
    "---\n",
    "## Expression involving repeated sum and products\n",
    "\n",
    "**Summation, $\\sum$**\n",
    "\n",
    "From your notes that the summation operator\n",
    "$$\n",
    "    \\sum_{k=1}^{n} f(k) = f(1) + f(2) + f(3) + \\cdots + f(n-2) + f(n-1) + f(n)\n",
    "$$\n",
    "can be evaluated in python using the following `for` loop (once you have defined the function `f`)\n",
    "\n",
    "~~~python\n",
    "total = 0\n",
    "for k in range(1, n+1):\n",
    "    total += f(k)\n",
    "print(f\"Result is {total}\")\n",
    "~~~\n",
    "\n",
    "\n",
    "**Product, $\\prod$**\n",
    "\n",
    "From your notes, the product operator\n",
    "$$\n",
    "    \\prod_{k=1}^{n} f(k) = f(1) \\times f(2) \\times f(3) \\times \\cdots \\times f(n-2) \\times f(n-1) \\times f(n)\n",
    "$$\n",
    "can be evaluated in python using the following `for` loop (once you have defined the function `f`)\n",
    "\n",
    "~~~python\n",
    "product = 1\n",
    "for k in range(1, n+1):\n",
    "    product *= f(k)\n",
    "print(f\"Result is {product}\")\n",
    "~~~\n"
   ]
  },
  {
   "cell_type": "markdown",
   "metadata": {
    "id": "t1PZ9jnUobcO"
   },
   "source": [
    "### Example\n",
    "\n",
    "Evaluate (see notes, slide 3)\n",
    "$$\n",
    "    \\sum_{k=1}^{10} k^2\n",
    "$$"
   ]
  },
  {
   "cell_type": "code",
   "execution_count": 3,
   "metadata": {
    "execution": {
     "iopub.execute_input": "2020-12-16T22:06:30.859296Z",
     "iopub.status.busy": "2020-12-16T22:06:30.858619Z",
     "iopub.status.idle": "2020-12-16T22:06:30.861864Z",
     "shell.execute_reply": "2020-12-16T22:06:30.862560Z"
    }
   },
   "outputs": [
    {
     "name": "stdout",
     "output_type": "stream",
     "text": [
      "Result is 385\n"
     ]
    }
   ],
   "source": [
    "# First define function f\n",
    "def f(k):\n",
    "    return k**2\n",
    "\n",
    "# Now perform loop (should get same result as in the notes = 385)\n",
    "total = 0\n",
    "for k in range(1, 10+1):\n",
    "    total += f(k)\n",
    "print(f\"Result is {total}\")"
   ]
  },
  {
   "cell_type": "markdown",
   "metadata": {},
   "source": [
    "### Question 1\n",
    "\n",
    "Use python to evaluate the expression\n",
    "\n",
    "$$\n",
    "    \\sum_{k=2}^{200} \\bigg[ k^2 + k \\bigg]\n",
    "$$\n",
    "\n",
    "Note the different start value"
   ]
  },
  {
   "cell_type": "code",
   "execution_count": 4,
   "metadata": {
    "execution": {
     "iopub.execute_input": "2020-12-16T22:06:30.866749Z",
     "iopub.status.busy": "2020-12-16T22:06:30.866000Z",
     "iopub.status.idle": "2020-12-16T22:06:30.868645Z",
     "shell.execute_reply": "2020-12-16T22:06:30.869207Z"
    }
   },
   "outputs": [],
   "source": [
    "# Question 1\n",
    "\n",
    "# First define function f\n",
    "\n",
    "# Now perform loop \n"
   ]
  },
  {
   "cell_type": "markdown",
   "metadata": {},
   "source": [
    "### Question 2\n",
    "\n",
    "Use python to evaluate the expression\n",
    "\n",
    "$$\n",
    "    \\prod_{k=1}^{20} \\bigg[ k \\bigg]\n",
    "$$\n"
   ]
  },
  {
   "cell_type": "code",
   "execution_count": 5,
   "metadata": {
    "execution": {
     "iopub.execute_input": "2020-12-16T22:06:30.873182Z",
     "iopub.status.busy": "2020-12-16T22:06:30.872529Z",
     "iopub.status.idle": "2020-12-16T22:06:30.875142Z",
     "shell.execute_reply": "2020-12-16T22:06:30.875626Z"
    }
   },
   "outputs": [],
   "source": [
    "# Question 2\n",
    "\n",
    "# First define function f\n",
    "\n",
    "# Now perform loop \n"
   ]
  },
  {
   "cell_type": "markdown",
   "metadata": {},
   "source": [
    "### Question 3\n",
    "\n",
    "*(A slight variation to the previous question)*\n",
    "\n",
    "Implement a function, `g`, that evaluates the expression for any positive integer `n`\n",
    "\n",
    "$$\n",
    "    \\prod_{k=1}^{n} \\bigg[ k \\bigg]\n",
    "$$\n",
    "\n",
    "Then test your function `g` by showing that `g(5)=120`, using a print statement.\n",
    "\n",
    "Note: You can define a function inside another. This is often a good idea as it promotes [data hiding and reducing scope](https://medium.com/better-programming/7-ways-to-limit-scope-in-your-code-e3052cdb91a4). So for this exercise define your function `f` inside the function `g`."
   ]
  },
  {
   "cell_type": "code",
   "execution_count": 6,
   "metadata": {
    "execution": {
     "iopub.execute_input": "2020-12-16T22:06:30.879333Z",
     "iopub.status.busy": "2020-12-16T22:06:30.878756Z",
     "iopub.status.idle": "2020-12-16T22:06:30.881849Z",
     "shell.execute_reply": "2020-12-16T22:06:30.881227Z"
    }
   },
   "outputs": [],
   "source": [
    "# Question 3\n"
   ]
  },
  {
   "cell_type": "markdown",
   "metadata": {},
   "source": [
    "### Question 4\n",
    "\n",
    "Use python to evaluate the expression\n",
    "\n",
    "$$\n",
    "    \\sum_{k=1}^{10} \\left[ \\prod_{m=1}^{k} \\left[\\left(\\frac{1}{2}\\right)^m\\right] \\right]\n",
    "$$\n",
    "\n",
    "Note: This is a harder question because you have a loop inside a loop. To implement this, first define a function `g(k)` to compute the inner loop\n",
    "$$\n",
    "    g(k) = \\prod_{m=1}^{k} \\left[\\left(\\frac{1}{2}\\right)^m\\right]\n",
    "$$\n",
    "Then evaluate the outer loop \n",
    "$$\n",
    "    \\sum_{k=1}^{10} \\bigg[ g(k) \\bigg]\n",
    "$$"
   ]
  },
  {
   "cell_type": "code",
   "execution_count": 7,
   "metadata": {
    "execution": {
     "iopub.execute_input": "2020-12-16T22:06:30.885271Z",
     "iopub.status.busy": "2020-12-16T22:06:30.884709Z",
     "iopub.status.idle": "2020-12-16T22:06:30.887394Z",
     "shell.execute_reply": "2020-12-16T22:06:30.886877Z"
    }
   },
   "outputs": [],
   "source": [
    "# Question 4\n",
    "\n",
    "# First define function f\n",
    "\n",
    "# Now perform loop \n"
   ]
  },
  {
   "cell_type": "markdown",
   "metadata": {},
   "source": [
    "---\n",
    "## Geometric Progressions\n",
    "\n",
    "Recall from your notes:\n",
    "\n",
    "<img src=\"https://kmurphy.github.io/notebooks/dm_gp.png\" width=\"80%\"/>\n",
    "\n",
    "\n",
    "So to geometric the nth term in a geometric progression we can just use \n",
    "$$\n",
    "    a_n = a r^{n}\n",
    "$$\n",
    "\n",
    "The following function, `f` generates the first `n` terms in a geometric sequence.  \n",
    "The `interact` function creates three sliders so we can see the effect of the parameters `a` and `r` more easily."
   ]
  },
  {
   "cell_type": "code",
   "execution_count": 8,
   "metadata": {
    "execution": {
     "iopub.execute_input": "2020-12-16T22:06:30.917975Z",
     "iopub.status.busy": "2020-12-16T22:06:30.917466Z",
     "iopub.status.idle": "2020-12-16T22:06:30.932398Z",
     "shell.execute_reply": "2020-12-16T22:06:30.927084Z"
    }
   },
   "outputs": [
    {
     "data": {
      "application/vnd.jupyter.widget-view+json": {
       "model_id": "b4676254847c47f1a157a656a98a913e",
       "version_major": 2,
       "version_minor": 0
      },
      "text/plain": [
       "interactive(children=(IntSlider(value=1, description='a', max=30), FloatSlider(value=2.0, description='r', max…"
      ]
     },
     "metadata": {},
     "output_type": "display_data"
    },
    {
     "data": {
      "text/plain": [
       "<function __main__.f(a, r, n)>"
      ]
     },
     "execution_count": 1,
     "metadata": {},
     "output_type": "execute_result"
    }
   ],
   "source": [
    "\n",
    "def f(a,r,n):\n",
    "    sequence = [a*r**k for k in range(0,n)]\n",
    "    print(sequence)\n",
    "        \n",
    "interact(f, \n",
    "    a = widgets.IntSlider(min=0, max=30, step=1, value=1), \n",
    "    r = widgets.FloatSlider(min=-3, max=3, step=0.1, value=2), \n",
    "    n = widgets.IntSlider(min=0, max=30, step=1, value=10)\n",
    ");"
   ]
  },
  {
   "cell_type": "markdown",
   "metadata": {},
   "source": [
    "### Question 5\n",
    "\n",
    "Consider the following image of a square of side 1.\n",
    "\n",
    "\n",
    "<img src=\"https://kmurphy.github.io/notebooks/dm_seq_squares.png\" width=\"80%\"/>\n",
    "\n",
    "Use geometric progression to compute the area of the purple (pink?) regions."
   ]
  },
  {
   "cell_type": "code",
   "execution_count": 9,
   "metadata": {
    "execution": {
     "iopub.execute_input": "2020-12-16T22:06:30.935635Z",
     "iopub.status.busy": "2020-12-16T22:06:30.935141Z",
     "iopub.status.idle": "2020-12-16T22:06:30.937791Z",
     "shell.execute_reply": "2020-12-16T22:06:30.937277Z"
    }
   },
   "outputs": [],
   "source": [
    "# Question 5\n",
    "\n",
    "# determine starting value, a, and ratio, r\n",
    "\n",
    "# Now compute sum of terms (when do you stop?) \n"
   ]
  },
  {
   "cell_type": "markdown",
   "metadata": {},
   "source": [
    "---\n",
    "## Recursive Sequences\n",
    "\n",
    "In a recursive sequence the current term is defined in terms of (some of) the previous terms. While these sequences can be more difficult to study than arithmetic or geometric sequences, writing a python function to represent a recursive sequence is easy (remember the recursive implementation of factorials and binomial coefficients in practical P10)."
   ]
  },
  {
   "cell_type": "markdown",
   "metadata": {},
   "source": [
    "### Question 6\n",
    "\n",
    "The geometric pattern below is created recursively. If you continue the pattern endlessly, you create a fractal called the Sierpiski triangle. How many red triangles are there at Stage 20?\n",
    "\n",
    "<img src=\"https://kmurphy.github.io/notebooks/dm_seq_sierpiski.png\" width=\"80%\"/>\n",
    "\n",
    "Use geometric progression to compute the area of the purple (pink?) regions."
   ]
  },
  {
   "cell_type": "code",
   "execution_count": 10,
   "metadata": {
    "execution": {
     "iopub.execute_input": "2020-12-16T22:06:30.940862Z",
     "iopub.status.busy": "2020-12-16T22:06:30.940335Z",
     "iopub.status.idle": "2020-12-16T22:06:30.942558Z",
     "shell.execute_reply": "2020-12-16T22:06:30.942928Z"
    }
   },
   "outputs": [],
   "source": [
    "# Question 6\n",
    "\n",
    "# implement function representing recursive formula\n",
    "\n",
    "# compute function at 20"
   ]
  },
  {
   "cell_type": "markdown",
   "metadata": {
    "id": "Fupb7zMXobcQ"
   },
   "source": [
    "---\n",
    "## Review/Feedback (P12)"
   ]
  },
  {
   "cell_type": "code",
   "execution_count": 11,
   "metadata": {
    "cellView": "form",
    "execution": {
     "iopub.execute_input": "2020-12-16T22:06:30.946783Z",
     "iopub.status.busy": "2020-12-16T22:06:30.946258Z",
     "iopub.status.idle": "2020-12-16T22:06:30.949013Z",
     "shell.execute_reply": "2020-12-16T22:06:30.948479Z"
    },
    "id": "2TW5QrGFobcQ"
   },
   "outputs": [],
   "source": [
    "#@markdown One of disadvantage of going online is that students can lose out on opportunities to provide feedback on how they think the semester is progressing and in particular for __Discrete Mathematics__, how they easy/difficult, interesting/boring, useful/confusing they find the material. By completing the following you will help us improve our delivery.<br />Please enter your feedback and click on arrow at top-left to save. \n",
    "\n",
    "#@markdown **This practical**\n",
    "\n",
    "#@markdown How difficult did you find this practical?\n",
    "practical_difficulty = 'No opinion' #@param ['No opinion', \"Too easy', 'Easy', 'About right', 'Some bits were hard but overall it was doable', 'Too difficult', 'Impossible']\n",
    "\n",
    "#@markdown Including online session time, how long (in minutes) did it take for you to finish this practical?\n",
    "practical_duration = 0 #@param {type: \"number\"}\n",
    "\n",
    "#@markdown **This week's material**\n",
    "\n",
    "#@markdown How difficult did you find each of the following this week _(0=too easy 3=easy, 5=just right, 7=a bit difficult, 10=impossible)_?\n",
    "lecture_difficulty = 0  #@param {type: \"slider\", min: 0, max: 10}\n",
    "tutorial_questions_difficulty = 0  #@param {type: \"slider\", min: 0, max: 10}\n",
    "\n",
    "#@markdown Use the line below to enter any comments &mdash; what you liked, what you did not like. Again all feedback is welcome.\n",
    "general_comment = \"\" #@param {type: \"string\"}"
   ]
  },
  {
   "cell_type": "code",
   "execution_count": null,
   "metadata": {},
   "outputs": [],
   "source": []
  }
 ],
 "metadata": {
  "colab": {
   "name": "Discrete_Maths_P12_-_Sequences.ipynb",
   "provenance": []
  },
  "kernelspec": {
   "display_name": "Python 3",
   "language": "python",
   "name": "python3"
  },
  "language_info": {
   "codemirror_mode": {
    "name": "ipython",
    "version": 3
   },
   "file_extension": ".py",
   "mimetype": "text/x-python",
   "name": "python",
   "nbconvert_exporter": "python",
   "pygments_lexer": "ipython3",
   "version": "3.8.6"
  },
  "toc": {
   "toc_cell": false,
   "toc_number_sections": true,
   "toc_threshold": 6,
   "toc_window_display": false
  },
  "toc-autonumbering": false,
  "widgets": {
   "application/vnd.jupyter.widget-state+json": {
    "state": {
     "0a4eae1e11674690be018a943910f251": {
      "model_module": "@jupyter-widgets/base",
      "model_module_version": "1.2.0",
      "model_name": "LayoutModel",
      "state": {
       "_model_module": "@jupyter-widgets/base",
       "_model_module_version": "1.2.0",
       "_model_name": "LayoutModel",
       "_view_count": null,
       "_view_module": "@jupyter-widgets/base",
       "_view_module_version": "1.2.0",
       "_view_name": "LayoutView",
       "align_content": null,
       "align_items": null,
       "align_self": null,
       "border": null,
       "bottom": null,
       "display": null,
       "flex": null,
       "flex_flow": null,
       "grid_area": null,
       "grid_auto_columns": null,
       "grid_auto_flow": null,
       "grid_auto_rows": null,
       "grid_column": null,
       "grid_gap": null,
       "grid_row": null,
       "grid_template_areas": null,
       "grid_template_columns": null,
       "grid_template_rows": null,
       "height": null,
       "justify_content": null,
       "justify_items": null,
       "left": null,
       "margin": null,
       "max_height": null,
       "max_width": null,
       "min_height": null,
       "min_width": null,
       "object_fit": null,
       "object_position": null,
       "order": null,
       "overflow": null,
       "overflow_x": null,
       "overflow_y": null,
       "padding": null,
       "right": null,
       "top": null,
       "visibility": null,
       "width": null
      }
     },
     "107d7c12d77e46e2b6978e9047d1089e": {
      "model_module": "@jupyter-widgets/base",
      "model_module_version": "1.2.0",
      "model_name": "LayoutModel",
      "state": {
       "_model_module": "@jupyter-widgets/base",
       "_model_module_version": "1.2.0",
       "_model_name": "LayoutModel",
       "_view_count": null,
       "_view_module": "@jupyter-widgets/base",
       "_view_module_version": "1.2.0",
       "_view_name": "LayoutView",
       "align_content": null,
       "align_items": null,
       "align_self": null,
       "border": null,
       "bottom": null,
       "display": null,
       "flex": null,
       "flex_flow": null,
       "grid_area": null,
       "grid_auto_columns": null,
       "grid_auto_flow": null,
       "grid_auto_rows": null,
       "grid_column": null,
       "grid_gap": null,
       "grid_row": null,
       "grid_template_areas": null,
       "grid_template_columns": null,
       "grid_template_rows": null,
       "height": null,
       "justify_content": null,
       "justify_items": null,
       "left": null,
       "margin": null,
       "max_height": null,
       "max_width": null,
       "min_height": null,
       "min_width": null,
       "object_fit": null,
       "object_position": null,
       "order": null,
       "overflow": null,
       "overflow_x": null,
       "overflow_y": null,
       "padding": null,
       "right": null,
       "top": null,
       "visibility": null,
       "width": null
      }
     },
     "3240f44e91fa488095947d83464ac495": {
      "model_module": "@jupyter-widgets/controls",
      "model_module_version": "1.5.0",
      "model_name": "IntSliderModel",
      "state": {
       "_dom_classes": [],
       "_model_module": "@jupyter-widgets/controls",
       "_model_module_version": "1.5.0",
       "_model_name": "IntSliderModel",
       "_view_count": null,
       "_view_module": "@jupyter-widgets/controls",
       "_view_module_version": "1.5.0",
       "_view_name": "IntSliderView",
       "continuous_update": true,
       "description": "n",
       "description_tooltip": null,
       "disabled": false,
       "layout": "IPY_MODEL_ee86bb74d87a4e689b766e86878c241d",
       "max": 30,
       "min": 0,
       "orientation": "horizontal",
       "readout": true,
       "readout_format": "d",
       "step": 1,
       "style": "IPY_MODEL_87e24ea668c6490799916acef391fd7f",
       "value": 10
      }
     },
     "50281f302c524dc5a9b6989e84c4f65a": {
      "model_module": "@jupyter-widgets/output",
      "model_module_version": "1.0.0",
      "model_name": "OutputModel",
      "state": {
       "_dom_classes": [],
       "_model_module": "@jupyter-widgets/output",
       "_model_module_version": "1.0.0",
       "_model_name": "OutputModel",
       "_view_count": null,
       "_view_module": "@jupyter-widgets/output",
       "_view_module_version": "1.0.0",
       "_view_name": "OutputView",
       "layout": "IPY_MODEL_0a4eae1e11674690be018a943910f251",
       "msg_id": "",
       "outputs": [
        {
         "name": "stdout",
         "output_type": "stream",
         "text": "[1.0, 2.0, 4.0, 8.0, 16.0, 32.0, 64.0, 128.0, 256.0, 512.0]\n"
        }
       ]
      }
     },
     "57f9a9eb1baf4519a7ca5a58af42f315": {
      "model_module": "@jupyter-widgets/controls",
      "model_module_version": "1.5.0",
      "model_name": "SliderStyleModel",
      "state": {
       "_model_module": "@jupyter-widgets/controls",
       "_model_module_version": "1.5.0",
       "_model_name": "SliderStyleModel",
       "_view_count": null,
       "_view_module": "@jupyter-widgets/base",
       "_view_module_version": "1.2.0",
       "_view_name": "StyleView",
       "description_width": "",
       "handle_color": null
      }
     },
     "5be6666a77724d39ad28748f38fda6ce": {
      "model_module": "@jupyter-widgets/controls",
      "model_module_version": "1.5.0",
      "model_name": "SliderStyleModel",
      "state": {
       "_model_module": "@jupyter-widgets/controls",
       "_model_module_version": "1.5.0",
       "_model_name": "SliderStyleModel",
       "_view_count": null,
       "_view_module": "@jupyter-widgets/base",
       "_view_module_version": "1.2.0",
       "_view_name": "StyleView",
       "description_width": "",
       "handle_color": null
      }
     },
     "87e24ea668c6490799916acef391fd7f": {
      "model_module": "@jupyter-widgets/controls",
      "model_module_version": "1.5.0",
      "model_name": "SliderStyleModel",
      "state": {
       "_model_module": "@jupyter-widgets/controls",
       "_model_module_version": "1.5.0",
       "_model_name": "SliderStyleModel",
       "_view_count": null,
       "_view_module": "@jupyter-widgets/base",
       "_view_module_version": "1.2.0",
       "_view_name": "StyleView",
       "description_width": "",
       "handle_color": null
      }
     },
     "8e983360444e4795a1e81c30f39ee59f": {
      "model_module": "@jupyter-widgets/controls",
      "model_module_version": "1.5.0",
      "model_name": "IntSliderModel",
      "state": {
       "_dom_classes": [],
       "_model_module": "@jupyter-widgets/controls",
       "_model_module_version": "1.5.0",
       "_model_name": "IntSliderModel",
       "_view_count": null,
       "_view_module": "@jupyter-widgets/controls",
       "_view_module_version": "1.5.0",
       "_view_name": "IntSliderView",
       "continuous_update": true,
       "description": "a",
       "description_tooltip": null,
       "disabled": false,
       "layout": "IPY_MODEL_d47bdb17cb944ce89525397de2b2d4ce",
       "max": 30,
       "min": 0,
       "orientation": "horizontal",
       "readout": true,
       "readout_format": "d",
       "step": 1,
       "style": "IPY_MODEL_57f9a9eb1baf4519a7ca5a58af42f315",
       "value": 1
      }
     },
     "9e37c4828bc1480e868b3795fed5764d": {
      "model_module": "@jupyter-widgets/controls",
      "model_module_version": "1.5.0",
      "model_name": "FloatSliderModel",
      "state": {
       "_dom_classes": [],
       "_model_module": "@jupyter-widgets/controls",
       "_model_module_version": "1.5.0",
       "_model_name": "FloatSliderModel",
       "_view_count": null,
       "_view_module": "@jupyter-widgets/controls",
       "_view_module_version": "1.5.0",
       "_view_name": "FloatSliderView",
       "continuous_update": true,
       "description": "r",
       "description_tooltip": null,
       "disabled": false,
       "layout": "IPY_MODEL_f0796c8b01a44aefb4388ec3b4f8a5b3",
       "max": 3.0,
       "min": -3.0,
       "orientation": "horizontal",
       "readout": true,
       "readout_format": ".2f",
       "step": 0.1,
       "style": "IPY_MODEL_5be6666a77724d39ad28748f38fda6ce",
       "value": 2.0
      }
     },
     "b4676254847c47f1a157a656a98a913e": {
      "model_module": "@jupyter-widgets/controls",
      "model_module_version": "1.5.0",
      "model_name": "VBoxModel",
      "state": {
       "_dom_classes": [
        "widget-interact"
       ],
       "_model_module": "@jupyter-widgets/controls",
       "_model_module_version": "1.5.0",
       "_model_name": "VBoxModel",
       "_view_count": null,
       "_view_module": "@jupyter-widgets/controls",
       "_view_module_version": "1.5.0",
       "_view_name": "VBoxView",
       "box_style": "",
       "children": [
        "IPY_MODEL_8e983360444e4795a1e81c30f39ee59f",
        "IPY_MODEL_9e37c4828bc1480e868b3795fed5764d",
        "IPY_MODEL_3240f44e91fa488095947d83464ac495",
        "IPY_MODEL_50281f302c524dc5a9b6989e84c4f65a"
       ],
       "layout": "IPY_MODEL_107d7c12d77e46e2b6978e9047d1089e"
      }
     },
     "d47bdb17cb944ce89525397de2b2d4ce": {
      "model_module": "@jupyter-widgets/base",
      "model_module_version": "1.2.0",
      "model_name": "LayoutModel",
      "state": {
       "_model_module": "@jupyter-widgets/base",
       "_model_module_version": "1.2.0",
       "_model_name": "LayoutModel",
       "_view_count": null,
       "_view_module": "@jupyter-widgets/base",
       "_view_module_version": "1.2.0",
       "_view_name": "LayoutView",
       "align_content": null,
       "align_items": null,
       "align_self": null,
       "border": null,
       "bottom": null,
       "display": null,
       "flex": null,
       "flex_flow": null,
       "grid_area": null,
       "grid_auto_columns": null,
       "grid_auto_flow": null,
       "grid_auto_rows": null,
       "grid_column": null,
       "grid_gap": null,
       "grid_row": null,
       "grid_template_areas": null,
       "grid_template_columns": null,
       "grid_template_rows": null,
       "height": null,
       "justify_content": null,
       "justify_items": null,
       "left": null,
       "margin": null,
       "max_height": null,
       "max_width": null,
       "min_height": null,
       "min_width": null,
       "object_fit": null,
       "object_position": null,
       "order": null,
       "overflow": null,
       "overflow_x": null,
       "overflow_y": null,
       "padding": null,
       "right": null,
       "top": null,
       "visibility": null,
       "width": null
      }
     },
     "ee86bb74d87a4e689b766e86878c241d": {
      "model_module": "@jupyter-widgets/base",
      "model_module_version": "1.2.0",
      "model_name": "LayoutModel",
      "state": {
       "_model_module": "@jupyter-widgets/base",
       "_model_module_version": "1.2.0",
       "_model_name": "LayoutModel",
       "_view_count": null,
       "_view_module": "@jupyter-widgets/base",
       "_view_module_version": "1.2.0",
       "_view_name": "LayoutView",
       "align_content": null,
       "align_items": null,
       "align_self": null,
       "border": null,
       "bottom": null,
       "display": null,
       "flex": null,
       "flex_flow": null,
       "grid_area": null,
       "grid_auto_columns": null,
       "grid_auto_flow": null,
       "grid_auto_rows": null,
       "grid_column": null,
       "grid_gap": null,
       "grid_row": null,
       "grid_template_areas": null,
       "grid_template_columns": null,
       "grid_template_rows": null,
       "height": null,
       "justify_content": null,
       "justify_items": null,
       "left": null,
       "margin": null,
       "max_height": null,
       "max_width": null,
       "min_height": null,
       "min_width": null,
       "object_fit": null,
       "object_position": null,
       "order": null,
       "overflow": null,
       "overflow_x": null,
       "overflow_y": null,
       "padding": null,
       "right": null,
       "top": null,
       "visibility": null,
       "width": null
      }
     },
     "f0796c8b01a44aefb4388ec3b4f8a5b3": {
      "model_module": "@jupyter-widgets/base",
      "model_module_version": "1.2.0",
      "model_name": "LayoutModel",
      "state": {
       "_model_module": "@jupyter-widgets/base",
       "_model_module_version": "1.2.0",
       "_model_name": "LayoutModel",
       "_view_count": null,
       "_view_module": "@jupyter-widgets/base",
       "_view_module_version": "1.2.0",
       "_view_name": "LayoutView",
       "align_content": null,
       "align_items": null,
       "align_self": null,
       "border": null,
       "bottom": null,
       "display": null,
       "flex": null,
       "flex_flow": null,
       "grid_area": null,
       "grid_auto_columns": null,
       "grid_auto_flow": null,
       "grid_auto_rows": null,
       "grid_column": null,
       "grid_gap": null,
       "grid_row": null,
       "grid_template_areas": null,
       "grid_template_columns": null,
       "grid_template_rows": null,
       "height": null,
       "justify_content": null,
       "justify_items": null,
       "left": null,
       "margin": null,
       "max_height": null,
       "max_width": null,
       "min_height": null,
       "min_width": null,
       "object_fit": null,
       "object_position": null,
       "order": null,
       "overflow": null,
       "overflow_x": null,
       "overflow_y": null,
       "padding": null,
       "right": null,
       "top": null,
       "visibility": null,
       "width": null
      }
     }
    },
    "version_major": 2,
    "version_minor": 0
   }
  }
 },
 "nbformat": 4,
 "nbformat_minor": 4
}
