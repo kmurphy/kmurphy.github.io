{
 "cells": [
  {
   "cell_type": "markdown",
   "metadata": {},
   "source": [
    "# Probability &mdash; Competing Archers"
   ]
  },
  {
   "cell_type": "markdown",
   "metadata": {},
   "source": [
    "---\n",
    "## Introduction"
   ]
  },
  {
   "cell_type": "markdown",
   "metadata": {},
   "source": [
    "### Outline\n",
    "\n",
    "Two companies of archers face each other on either side of a river; \"red\" company has 90 archers and \"blue\" has 45. \n",
    "Each minute one archer shoots an arrow. \n",
    "The arrow comes from red or blue according to the fraction of archers left. \n",
    "So based on given starting numbers, red shoots the first arrow with probability\n",
    "$$\n",
    "\\frac{90}{90 + 45}\n",
    "$$\n",
    "Battle continues until either company is depleted.\n",
    "\n",
    " * If both companies always hit an opponent then red will almost always annihilate blue. \n",
    "    What is the average number of archers that remain in the red company when blue has been exterminated?\n",
    "\n",
    " * The commander of blue company realizes the need to make it more difficult for red to succeed, \n",
    "   and hence repositions the company so that red is only successful at scoring a hit a fraction of the time, say $0 < p < 1$. \n",
    "   Approximately what value must $p$ be for blue to annihilate red, on the average, half the time? "
   ]
  },
  {
   "cell_type": "markdown",
   "metadata": {},
   "source": [
    "### Concepts/Skills Covered\n",
    "\n",
    " * **Theory** \n",
    "     * Basic Probability\n",
    " * **Analytical** \n",
    "     * None\n",
    " * **Numerical Techniques/Computation**\n",
    "     * Generating stochastic simulations.\n",
    "     * Root finding\n",
    " * **Visualisation**\n",
    "     * Drawing multiple curves on a single figure\n",
    "     * Improving graphs\n",
    "         * Labeling, line styles, legends\n",
    "         * Inserting horizontal/vertical marker lines, etc\n",
    "         * Including data values and mathematical notation in text\n",
    "     * Exporting/Saving to PDF/PNG formats\n",
    "         * Auto naming image files.\n",
    " * **Coding**\n",
    "      * Debug output to trace simulations\n",
    "      * Using assertions, `assert`, to validate checks"
   ]
  },
  {
   "cell_type": "markdown",
   "metadata": {},
   "source": [
    "---\n",
    "## Setup"
   ]
  },
  {
   "cell_type": "code",
   "execution_count": 1,
   "metadata": {},
   "outputs": [],
   "source": [
    "import numpy as np\n",
    "import matplotlib.pyplot as plt\n",
    "plt.style.use(['seaborn-darkgrid','seaborn-poster'])\n",
    "\n",
    "import numpy.random as rnd"
   ]
  },
  {
   "cell_type": "markdown",
   "metadata": {},
   "source": [
    "---\n",
    "## Step 1 &mdash; Basic implementation "
   ]
  },
  {
   "cell_type": "markdown",
   "metadata": {},
   "source": [
    " * Use small numbers so not drowned by too much data.\n",
    " * Fixed random seed so that results are reproducible (for now).\n",
    " * Don't worry about speed - just get it correct.\n",
    " * Print statements are your friend - insert as many as you need to see what is happening"
   ]
  },
  {
   "cell_type": "code",
   "execution_count": null,
   "metadata": {},
   "outputs": [],
   "source": []
  },
  {
   "cell_type": "code",
   "execution_count": null,
   "metadata": {},
   "outputs": [],
   "source": []
  },
  {
   "cell_type": "code",
   "execution_count": null,
   "metadata": {},
   "outputs": [],
   "source": []
  },
  {
   "cell_type": "code",
   "execution_count": null,
   "metadata": {},
   "outputs": [],
   "source": []
  },
  {
   "cell_type": "markdown",
   "metadata": {},
   "source": [
    "---\n",
    "## Step 2 &mdash; Generate visualisations"
   ]
  },
  {
   "cell_type": "markdown",
   "metadata": {},
   "source": [
    " * Graphics are useful when moving to larger data values.\n",
    " * For graphs, we usually need to keep record of history of data - use lists/arrays.\n",
    " * Compare output with earlier iterations - use fixed seeds."
   ]
  },
  {
   "cell_type": "code",
   "execution_count": null,
   "metadata": {},
   "outputs": [],
   "source": []
  },
  {
   "cell_type": "code",
   "execution_count": null,
   "metadata": {},
   "outputs": [],
   "source": []
  },
  {
   "cell_type": "code",
   "execution_count": null,
   "metadata": {},
   "outputs": [],
   "source": []
  },
  {
   "cell_type": "code",
   "execution_count": null,
   "metadata": {},
   "outputs": [],
   "source": []
  },
  {
   "cell_type": "markdown",
   "metadata": {},
   "source": [
    "---\n",
    "## Step 3 &mdash; Function implementation "
   ]
  },
  {
   "cell_type": "markdown",
   "metadata": {},
   "source": [
    " * Wrapping code into functions simplifies reuse.\n",
    "     * Function to simulate problem, `simulate_problem`.\n",
    "     * Function to generate plot of given simulation, `plot_history`.\n",
    "     * Function to run multiple simulations and group results, `run_trails`.\n",
    " * Use optional parameters to support debugging, etc.\n",
    " * Single function definition and sample call to each cell.\n",
    " * Compare output with earlier iterations - use fixed seeds."
   ]
  },
  {
   "cell_type": "code",
   "execution_count": null,
   "metadata": {},
   "outputs": [],
   "source": []
  },
  {
   "cell_type": "code",
   "execution_count": null,
   "metadata": {},
   "outputs": [],
   "source": []
  },
  {
   "cell_type": "code",
   "execution_count": null,
   "metadata": {},
   "outputs": [],
   "source": []
  },
  {
   "cell_type": "code",
   "execution_count": null,
   "metadata": {},
   "outputs": [],
   "source": []
  },
  {
   "cell_type": "markdown",
   "metadata": {},
   "source": [
    "---\n",
    "## Step 4 &mdash; Testing"
   ]
  },
  {
   "cell_type": "markdown",
   "metadata": {},
   "source": [
    " * Extend model to include accuracy\n",
    " * Added accuracy to both sides to better test effect.\n",
    " * Problem getting more complicated so need to think more about (easy) special cases. "
   ]
  },
  {
   "cell_type": "code",
   "execution_count": null,
   "metadata": {},
   "outputs": [],
   "source": []
  },
  {
   "cell_type": "code",
   "execution_count": null,
   "metadata": {},
   "outputs": [],
   "source": []
  },
  {
   "cell_type": "code",
   "execution_count": null,
   "metadata": {},
   "outputs": [],
   "source": []
  },
  {
   "cell_type": "code",
   "execution_count": null,
   "metadata": {},
   "outputs": [],
   "source": []
  },
  {
   "cell_type": "markdown",
   "metadata": {},
   "source": [
    "---\n",
    "## Step 5 &mdash; Answer Questions"
   ]
  },
  {
   "cell_type": "code",
   "execution_count": null,
   "metadata": {},
   "outputs": [],
   "source": []
  },
  {
   "cell_type": "code",
   "execution_count": null,
   "metadata": {},
   "outputs": [],
   "source": []
  },
  {
   "cell_type": "code",
   "execution_count": null,
   "metadata": {},
   "outputs": [],
   "source": []
  },
  {
   "cell_type": "code",
   "execution_count": null,
   "metadata": {},
   "outputs": [],
   "source": []
  },
  {
   "cell_type": "markdown",
   "metadata": {},
   "source": [
    "---\n",
    "## Conclusions\n",
    "\n",
    " * \n",
    "\n"
   ]
  }
 ],
 "metadata": {
  "kernelspec": {
   "display_name": "Python 3",
   "language": "python",
   "name": "python3"
  },
  "language_info": {
   "codemirror_mode": {
    "name": "ipython",
    "version": 3
   },
   "file_extension": ".py",
   "mimetype": "text/x-python",
   "name": "python",
   "nbconvert_exporter": "python",
   "pygments_lexer": "ipython3",
   "version": "3.8.6"
  }
 },
 "nbformat": 4,
 "nbformat_minor": 4
}
