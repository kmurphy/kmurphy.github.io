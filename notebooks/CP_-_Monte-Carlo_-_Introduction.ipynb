{
 "cells": [
  {
   "cell_type": "markdown",
   "metadata": {},
   "source": [
    "# Monte-Carlo &mdash; Introduction"
   ]
  },
  {
   "cell_type": "markdown",
   "metadata": {},
   "source": [
    "## Introduction\n",
    "\n",
    "Monte Carlo methods are nowadays widely used, from the integration of multi-dimensional integrals to solving ab initio problems in chemistry, physics, medicine, biology, or even Dow-Jones forecasting. Computational finance is one of the novel fields where Monte Carlo methods have found a new field of applications, with financial engineering as an emerging field.\n",
    "\n",
    "Numerical methods that are known as Monte Carlo methods can be loosely described as statistical simulation methods, where statistical simulation is defined in quite general terms to be any method that utilizes sequences of random numbers to perform the simulation. A central algorithm in Monte Carlo methods, called the Metropolis algorithm, is ranked as one of the top ten algorithms in the last century. \n",
    "\n",
    " * Statistical simulation methods may be contrasted to conventional numerical discretization methods, which typically are applied to ordinary or partial differential equations that describe some underlying physical or mathematical system. \n",
    " * In many applications of Monte Carlo, the physical process is simulated directly, and there is no need to even write down the differential equations that describe the behavior of the system. \n",
    " * The only requirement is that the physical (or mathematical) system be described by probability distribution functions (PDF's). Once the PDF's are known, the Monte Carlo simulation can proceed by random sampling from the PDF's. \n",
    "   * As we shall see much of our effort is based around efficient techniques for sampling an arbitrary PDF.\n",
    " * Many simulations are then performed (multiple \"trials\" or \"histories\") and the desired result is taken as an average over the number of observations (which may be a single observation or perhaps millions of observations). \n",
    "   * These simulations usually are ideal for parallelisation so utilise GPU/Multi-core efficiently. \n",
    " * In many practical applications, one can predict the statistical error (the \"variance\") in this average result, and hence an estimate of the number of Monte Carlo trials that are needed to achieve a given error.\n"
   ]
  },
  {
   "cell_type": "code",
   "execution_count": 1,
   "metadata": {
    "execution": {
     "iopub.execute_input": "2020-12-16T22:04:29.821529Z",
     "iopub.status.busy": "2020-12-16T22:04:29.820674Z",
     "iopub.status.idle": "2020-12-16T22:04:30.257606Z",
     "shell.execute_reply": "2020-12-16T22:04:30.258027Z"
    }
   },
   "outputs": [],
   "source": [
    "import numpy as np\n",
    "import matplotlib.pyplot as plt\n",
    "plt.style.use('seaborn-darkgrid')\n",
    "\n",
    "from numpy.random import default_rng\n",
    "rng = default_rng()"
   ]
  },
  {
   "cell_type": "markdown",
   "metadata": {},
   "source": [
    "## Application &mdash; Crude Integration\n",
    "\n",
    "Consider the problem of evaluating the definite integral\n",
    "$$\n",
    "I=\\int_{0}^{1} f(x) \\ \\mathrm{d} x\n",
    "$$\n",
    "\n",
    "We have used [scipy.integrate.quad](https://docs.scipy.org/doc/scipy/reference/generated/scipy.integrate.quad.html) method which approximates the integral using a weighted sum of function values, i.e.,\n",
    "$$\n",
    "I=\\int_{0}^{1} f(x) d x \\approx \\sum_{i=1}^{N} \\omega_{i} f\\left(x_{i}\\right)\n",
    "$$\n",
    "\n",
    "where $w_i$ are the weights determined by the specific integration method (like Simpson's or Taylor's methods) with $x_i$ the given mesh points.\n",
    "\n",
    "Alternatively, consider the expected value of the function $f$ for a given PDF $p(x)$, defined as\n",
    "$$\n",
    "\\langle f\\rangle=\\frac{1}{N} \\sum_{i=1}^{N} f\\left(x_{i}\\right) p\\left(x_{i}\\right)\n",
    "\\qquad\\text{or}\\qquad\n",
    "\\langle f\\rangle= \\int_{0}^{1} f\\left(x\\right) p\\left(x\\right)\\ \\mathrm{d} x\n",
    "$$\n",
    "where we use angle brackets, $\\langle \\bullet\\rangle$, to represent expectation.\n",
    "\n",
    "Now if we identify $p(x)$ with the uniform distribution, i.e. set $p(x) = 1$ when $x\\in [0, 1]$ and zero for all other values, then the integral reduces to the average of $f$ over the interval $x\\in [0, 1]$.\n",
    "$$\n",
    "    I=\\int_{0}^{1} f(x) d x \\approx\\langle f\\rangle\n",
    "$$\n",
    "\n",
    "In addition to the average value $\\langle f\\rangle$ the other important quantity in a Monte-Carlo calculation is the variance, $\\sigma^2$, and the standard deviation $\\sigma$. We define first the variance of the integral with $f$ for a uniform distribution in the interval $x\\in[0, 1]$ to be\n",
    "$$\n",
    "\\sigma^{2}=\\frac{1}{N} \\sum_{i=1}^{N}\\bigg(f\\left(x_{i}\\right)-\\langle f\\rangle\\bigg)^{2} p\\left(x_{i}\\right)\n",
    "$$\n",
    "or \n",
    "$$\n",
    "\\sigma^{2}=\\left(\\left\\langle f^{2}\\right\\rangle-\\langle f\\rangle^{2}\\right)\n",
    "$$\n",
    "\n",
    "The standard deviation decays proportional to $1/\\sqrt{N}$, which give an estimate for the error in the integral. This does not  compare favourably against discretisation methods such as Trapezoidal, Simpson's etc where the error bound is $N^{-k}$ for where $k \\ge 1$ is the order of the method. However, Monte Carlo integration is more efficient in higher dimensions since the error bound in Monte Carlo is independent of dimension, $d$, but the error bound in the traditional discretisation methods is $N^{-k/d}$, so Monte Carlo methods become more efficent than a traditional order-$k$ algorithm for dimensions $d > 2k$."
   ]
  },
  {
   "cell_type": "markdown",
   "metadata": {},
   "source": [
    "### Question 1\n",
    "\n",
    "Evaluate, using Monte Carlo integration\n",
    "$$\n",
    "    I \\int_{0}^{1} \\frac{4}{1+x^{2}} \\ \\mathrm{d}x \\quad (= \\pi)\n",
    "$$\n",
    "\n",
    "**Algorithm**\n",
    "\n",
    " * Choose the number of Monte Carlo samples $N$.\n",
    " * Perform a loop over $N$ and for each step\n",
    "    * Generate a a random number $x_i$ in the interval $[0, 1]$ via a call to a random number generator.\n",
    "    * Evaluate $f(x_i)$.\n",
    "    * Evaluate the contributions to the mean value and the standard deviation for each loop.\n",
    " * After *N* samples calculate the final mean value and the standard deviation.\n",
    "\n",
    "**Implementation**\n",
    "\n",
    "Define function \n",
    "~~~python\n",
    "def crude_mc(f, a, b, n, rng):\n",
    "~~~\n",
    "to estimate the integral of function $f$ over the interval $[a,b]$ using $n$ function evaluations generated using the `rng` random number generator. Returns both estimate and variance."
   ]
  },
  {
   "cell_type": "code",
   "execution_count": 2,
   "metadata": {
    "execution": {
     "iopub.execute_input": "2020-12-16T22:04:30.264631Z",
     "iopub.status.busy": "2020-12-16T22:04:30.264078Z",
     "iopub.status.idle": "2020-12-16T22:04:30.266786Z",
     "shell.execute_reply": "2020-12-16T22:04:30.267170Z"
    }
   },
   "outputs": [
    {
     "data": {
      "text/plain": [
       "(0, 0)"
      ]
     },
     "execution_count": 1,
     "metadata": {},
     "output_type": "execute_result"
    }
   ],
   "source": [
    "# Answer\n",
    "\n",
    "f = lambda x: 4 / (1+x**2)\n",
    "\n",
    "def crude_mc(f, a, b, n, rng):\n",
    "    \n",
    "    # TODO\n",
    "    return 0,0\n",
    "\n",
    "crude_mc(f, 0, 1, 100, rng)"
   ]
  },
  {
   "cell_type": "code",
   "execution_count": 3,
   "metadata": {
    "execution": {
     "iopub.execute_input": "2020-12-16T22:04:30.295668Z",
     "iopub.status.busy": "2020-12-16T22:04:30.295046Z",
     "iopub.status.idle": "2020-12-16T22:04:30.298465Z",
     "shell.execute_reply": "2020-12-16T22:04:30.298866Z"
    }
   },
   "outputs": [
    {
     "name": "stdout",
     "output_type": "stream",
     "text": [
      "       N        integral     variance        error\n",
      "--------------------------------------------------\n",
      "      10  0.00000000e+00    0.000e+00    3.142e+00\n",
      "     100  0.00000000e+00    0.000e+00    3.142e+00\n",
      "    1000  0.00000000e+00    0.000e+00    3.142e+00\n",
      "   10000  0.00000000e+00    0.000e+00    3.142e+00\n",
      "  100000  0.00000000e+00    0.000e+00    3.142e+00\n"
     ]
    }
   ],
   "source": [
    "print('%8s %15s %12s %12s' % ('N', 'integral', 'variance', 'error'))\n",
    "print('-' * 50)\n",
    "\n",
    "for n in [10**k for k in range(1,6)]:\n",
    "    integral, variance = crude_mc(f, 0, 1, n, rng) \n",
    "    error = np.pi-integral\n",
    "    print(f\"{n:8d} {integral:15.8e} {variance:12.3e} {error:12.3e}\")"
   ]
  },
  {
   "cell_type": "code",
   "execution_count": 4,
   "metadata": {
    "execution": {
     "iopub.execute_input": "2020-12-16T22:04:30.313711Z",
     "iopub.status.busy": "2020-12-16T22:04:30.307182Z",
     "iopub.status.idle": "2020-12-16T22:04:41.793012Z",
     "shell.execute_reply": "2020-12-16T22:04:41.793506Z"
    }
   },
   "outputs": [
    {
     "name": "stdout",
     "output_type": "stream",
     "text": [
      "143 ns ± 11.5 ns per loop (mean ± std. dev. of 7 runs, 10000000 loops each)\n"
     ]
    }
   ],
   "source": [
    "%%timeit \n",
    "crude_mc(f, 0, 1, 1_000_000, rng)"
   ]
  },
  {
   "cell_type": "markdown",
   "metadata": {},
   "source": [
    "### Question 2\n",
    "\n",
    "Speed up implementation by removing the `for` loop and generate all random values in a single call."
   ]
  },
  {
   "cell_type": "code",
   "execution_count": 5,
   "metadata": {
    "execution": {
     "iopub.execute_input": "2020-12-16T22:04:41.797427Z",
     "iopub.status.busy": "2020-12-16T22:04:41.796930Z",
     "iopub.status.idle": "2020-12-16T22:04:41.799518Z",
     "shell.execute_reply": "2020-12-16T22:04:41.799001Z"
    }
   },
   "outputs": [],
   "source": [
    "# Answer\n",
    "def crude_mc_2(f, a, b, n, rng):\n",
    "    \n",
    "    # TODO\n",
    "    return 0, 0"
   ]
  },
  {
   "cell_type": "code",
   "execution_count": 6,
   "metadata": {
    "execution": {
     "iopub.execute_input": "2020-12-16T22:04:41.819565Z",
     "iopub.status.busy": "2020-12-16T22:04:41.808304Z",
     "iopub.status.idle": "2020-12-16T22:04:52.092436Z",
     "shell.execute_reply": "2020-12-16T22:04:52.092921Z"
    }
   },
   "outputs": [
    {
     "name": "stdout",
     "output_type": "stream",
     "text": [
      "126 ns ± 1.46 ns per loop (mean ± std. dev. of 7 runs, 10000000 loops each)\n"
     ]
    }
   ],
   "source": [
    "%%timeit \n",
    "crude_mc_2(f, 0, 1, 1_000_000, rng)"
   ]
  },
  {
   "cell_type": "markdown",
   "metadata": {},
   "source": [
    "### Question 3 \n",
    "\n",
    "Implement a function \n",
    "~~~python\n",
    "def trap(f, a, b, n):\n",
    "~~~\n",
    "that uses the [trapezoidal rule](https://en.wikipedia.org/wiki/Trapezoidal_rule) to estimate the integral of $f$ over $[a,b]$ and compare its accuracy with Monte Carlo simulation.\n",
    "\n",
    "The trapezoidal rule for $f$ over $[a,b]$ is \n",
    "$$\n",
    "\\int_{a}^{b} f(x) \\ \\mathrm{d} x \n",
    " = h \\bigg[\n",
    "     f\\left(x_{1}\\right) + f\\left(x_{2}\\right) + f\\left(x_{3}\\right) + f\\left(x_{4}\\right) + \\cdots \n",
    "         + f\\left(x_{N-1}\\right)\n",
    "       \\bigg] \n",
    "   + \\frac{h}{2} \\bigg[ f\\left(x_{0}\\right) +f\\left(x_{N}\\right)\\bigg]\n",
    "$$\n",
    "where $h=(b-a)/N$ and $x_k=a + k \\times h$ (so $x_0=a$ and $x_N=b$).\n"
   ]
  },
  {
   "cell_type": "code",
   "execution_count": 7,
   "metadata": {
    "execution": {
     "iopub.execute_input": "2020-12-16T22:04:52.098225Z",
     "iopub.status.busy": "2020-12-16T22:04:52.097414Z",
     "iopub.status.idle": "2020-12-16T22:04:52.102068Z",
     "shell.execute_reply": "2020-12-16T22:04:52.101525Z"
    }
   },
   "outputs": [
    {
     "data": {
      "text/plain": [
       "0"
      ]
     },
     "execution_count": 1,
     "metadata": {},
     "output_type": "execute_result"
    }
   ],
   "source": [
    "def trap(f, a, b, n):\n",
    "    \n",
    "    # TODO\n",
    "    return 0\n",
    "\n",
    "\n",
    "trap(f,0, 1, 1000) "
   ]
  },
  {
   "cell_type": "code",
   "execution_count": 8,
   "metadata": {
    "execution": {
     "iopub.execute_input": "2020-12-16T22:04:52.106861Z",
     "iopub.status.busy": "2020-12-16T22:04:52.106332Z",
     "iopub.status.idle": "2020-12-16T22:04:52.109530Z",
     "shell.execute_reply": "2020-12-16T22:04:52.109930Z"
    }
   },
   "outputs": [
    {
     "name": "stdout",
     "output_type": "stream",
     "text": [
      "       N        integral        error\n",
      "--------------------------------------------------\n",
      "      10  0.00000000e+00     3.142e+00\n",
      "     100  0.00000000e+00     3.142e+00\n",
      "    1000  0.00000000e+00     3.142e+00\n",
      "   10000  0.00000000e+00     3.142e+00\n",
      "  100000  0.00000000e+00     3.142e+00\n"
     ]
    }
   ],
   "source": [
    "print('%8s %15s %12s' % ('N', 'integral', 'error'))\n",
    "print('-' * 50)\n",
    "\n",
    "for n in [10**k for k in range(1,6)]:\n",
    "    integral = trap(f, 0, 1, n) \n",
    "    error = np.pi-integral\n",
    "    print(f\"{n:8d} {integral:15.8e}  {error:12.3e}\")"
   ]
  },
  {
   "cell_type": "markdown",
   "metadata": {},
   "source": [
    "## Application &mdash; Particles in a box\n",
    "\n",
    "In this example we show how a system evolves towards a well defined equilibrium state.\n",
    "\n",
    "Consider a box divided into two equal halves separated by a wall. Then \n",
    "At the beginning, time $t = 0$, there are $N$ particles on the left side. \n",
    "A small hole in the wall is then opened and one particle can pass through the hole per unit time.\n",
    "After some time the system reaches its equilibrium state with equally many particles in both halves, $N/2$. \n",
    "Instead of determining complicated initial conditions for a system of $N$ particles, we model the system by a simple statistical model: \n",
    " * In order to simulate this system, which may consist of $N \\gg 1$ particles, we assume that all particles in the left half have equal probabilities of going to the right half. \n",
    " * Let $n_l$ denote the number of particles at every time on the left side, and $n_r = N-n_l$ the number of particles on the right side. \n",
    " * The probability for a move to the right during a time step $\\Delta t$ is $n_l/N$. \n",
    " "
   ]
  },
  {
   "cell_type": "markdown",
   "metadata": {},
   "source": [
    "### Question 4\n",
    "\n",
    "Simulate the behaviour of $n=1000$ particles over $t_{max}=10n$ time steps, and compare state history with deterministic model of\n",
    "$$\n",
    "    n_l(t) = \\frac{n}{2} \\bigg(1+\\mathrm{e}^{-2t/n}\\bigg)\n",
    "$$\n",
    "\n",
    "The algorithm for simulating this problem may then look like as follows:\n",
    "\n",
    "**Algorithm**\n",
    "\n",
    " * Choose the number of particles, $N$.\n",
    " * Make a loop over time, where the maximum time should be larger than the number of particles, $N$.\n",
    "     * For every time step, $\\Delta t$, there is a probability $n_l/N$ for a move to the right. Compare this probability\n",
    "with a random number $x$ sampled from $\\sim {\\cal U}(0,1)$.\n",
    "     * If $x \\le n_l/N$, move a particle form the left half to the right (i.e, decrease the number of particles in the left by one), otherwise move a particle from the right half to the left.\n",
    "\n",
    "**Implementation**\n",
    "\n",
    "Define function \n",
    "~~~python\n",
    "def simulate(n, t_max, rng):\n",
    "~~~\n",
    "which implement the above algorithm and returns an array of length $t_{max}+1$ containing the number of particles in the left half for time steps $0,1,\\ldots,t_{max}$."
   ]
  },
  {
   "cell_type": "code",
   "execution_count": 9,
   "metadata": {
    "execution": {
     "iopub.execute_input": "2020-12-16T22:04:52.113797Z",
     "iopub.status.busy": "2020-12-16T22:04:52.113290Z",
     "iopub.status.idle": "2020-12-16T22:04:52.115367Z",
     "shell.execute_reply": "2020-12-16T22:04:52.115768Z"
    }
   },
   "outputs": [],
   "source": [
    "# Answer\n",
    "def simulate(n, t_max, rng):\n",
    "    \n",
    "    # TODO\n",
    "    return np.array([0])"
   ]
  },
  {
   "cell_type": "code",
   "execution_count": 10,
   "metadata": {
    "execution": {
     "iopub.execute_input": "2020-12-16T22:04:52.138771Z",
     "iopub.status.busy": "2020-12-16T22:04:52.132673Z",
     "iopub.status.idle": "2020-12-16T22:04:52.535877Z",
     "shell.execute_reply": "2020-12-16T22:04:52.535345Z"
    }
   },
   "outputs": [
    {
     "data": {
      "image/png": "[encoded data removed]",
      "text/plain": [
       "<Figure size 432x288 with 1 Axes>"
      ]
     },
     "metadata": {},
     "output_type": "display_data"
    }
   ],
   "source": [
    "n = 1000\n",
    "t_max = 10 * n\n",
    "\n",
    "plt.plot(simulate(n, t_max, rng), label='MC simulation with $N=%s' % n)\n",
    "plt.plot(n/2 * (1+np.exp(-2*np.arange(t_max)/n)), label='Exact result')\n",
    "plt.ylabel('$n_l$')\n",
    "plt.xlabel('time step')\n",
    "plt.legend()\n",
    "plt.show()"
   ]
  },
  {
   "cell_type": "markdown",
   "metadata": {},
   "source": [
    "## Appplication &mdash; Radioactive decay\n",
    "\n",
    "Radioactive decay is among one of the classical examples on use of Monte-Carlo simulations. \n",
    "Assume that a the time $t = 0$ we have $N(0)$ nuclei of type X which can decay radioactively. \n",
    "At a time $t > 0$ we are left with $N(t)$ nuclei. \n",
    "With a transition probability $\\omega$, which expresses the probability that the system will make a transition to another state during a time step of one second, we have the following first-order differential equation\n",
    "$$\n",
    "d N(t)=-\\omega N(t) d t\n",
    "$$\n",
    "with solution \n",
    "$$\n",
    "N(t)=N(0) e^{-\\omega t}\n",
    "$$\n",
    "where we have defined the mean lifetime $\\tau$ of $X$ as\n",
    "$$\n",
    "\\tau=\\frac{1}{\\omega}\n",
    "$$\n",
    "\n",
    "If a nucleus X decays to a daughter nucleus Y which also can decay we get the following coupled equations\n",
    "$$\n",
    "\\frac{d N_{X}(t)}{d t}=-\\omega_{X} N_{X}(t)\n",
    "\\qquad\\text{and}\\qquad\n",
    "\\frac{d N_{Y}(t)}{d t}=-\\omega_{Y} N_{Y}(t)+\\omega_{X} N_{X}(t)\n",
    "$$\n",
    "\n",
    "And so on for more complicated situations.  In contrast "
   ]
  },
  {
   "cell_type": "markdown",
   "metadata": {},
   "source": [
    "### Question 5 (Single Nucleus Decay - Deterministic)\n",
    "\n",
    "Model the decay of $n=1000$ particles up to time $t_{max}=50$ steps with $\\omega=0.05$ using a differential equation.\n",
    "\n",
    " * Define array, `t`, to store the time points using `np.linspace` from 0 to $t_{max}$.\n",
    " * Define a function to represent the rhs of the above differential equation.\n",
    " * Using `scipy.integrate.odeint` to generate the required solution, save result as array, $u$.\n"
   ]
  },
  {
   "cell_type": "code",
   "execution_count": 11,
   "metadata": {
    "execution": {
     "iopub.execute_input": "2020-12-16T22:04:52.539867Z",
     "iopub.status.busy": "2020-12-16T22:04:52.539386Z",
     "iopub.status.idle": "2020-12-16T22:04:52.542312Z",
     "shell.execute_reply": "2020-12-16T22:04:52.541779Z"
    }
   },
   "outputs": [],
   "source": [
    "# Answer\n",
    "\n",
    "n = 1000\n",
    "t = np.array(0)\n",
    "u = np.array(0)"
   ]
  },
  {
   "cell_type": "code",
   "execution_count": 12,
   "metadata": {
    "execution": {
     "iopub.execute_input": "2020-12-16T22:04:52.564541Z",
     "iopub.status.busy": "2020-12-16T22:04:52.557148Z",
     "iopub.status.idle": "2020-12-16T22:04:52.686161Z",
     "shell.execute_reply": "2020-12-16T22:04:52.686567Z"
    }
   },
   "outputs": [
    {
     "data": {
      "image/png": "[encoded data removed]",
      "text/plain": [
       "<Figure size 432x288 with 1 Axes>"
      ]
     },
     "metadata": {},
     "output_type": "display_data"
    }
   ],
   "source": [
    "plt.plot(t, u/n, label='$N_X$')\n",
    "plt.xlabel('time (s)')\n",
    "plt.legend()\n",
    "plt.title(\"Single Nucleus Decay - Deterministic \")\n",
    "plt.show()"
   ]
  },
  {
   "cell_type": "markdown",
   "metadata": {},
   "source": [
    "### Question 6 (Single Nucleus Decay - Monte Carlo)\n",
    "\n",
    "Model the decay of $n=1000$ particles up to time $t_{max}=50$ steps with $\\omega=0.05$ using Monte Carlo simulation.\n",
    "\n",
    "**Algorithm**\n",
    "\n",
    " * Define zero array `result` of size `t_max + 1`. On return, `result[k]` will store the average number of unstable particles at time step `k`.\n",
    " * Loop over `n_samples`, where `n_samples` is the number of independent Monte Carlo samples.  For each sample:\n",
    "    * Initialse sample by setting `n_unstable` equal to `n`, and `total` equal to zero.\n",
    "    * Loop over each time step up to `t_max`. For each time step:\n",
    "       * Loop over each of the currently `n_unstable` particles. For each particle:\n",
    "           * Sample `x` from $\\sim {\\cal U}(0,1)$, and decay particle if `x` is less than $\\omega$.\n",
    "       * Add `n_unstable` to `total`.\n",
    "    * Save average number of unstable particles, `total/n_samples` to `result`.\n",
    " * Return array `result`\n"
   ]
  },
  {
   "cell_type": "code",
   "execution_count": 13,
   "metadata": {
    "execution": {
     "iopub.execute_input": "2020-12-16T22:04:52.691967Z",
     "iopub.status.busy": "2020-12-16T22:04:52.691333Z",
     "iopub.status.idle": "2020-12-16T22:04:52.693853Z",
     "shell.execute_reply": "2020-12-16T22:04:52.694604Z"
    }
   },
   "outputs": [],
   "source": [
    "# TODO\n",
    "def mc_sampling(n, t_max, n_samples, decay_probability, rng):\n",
    "    return np.array([0])\n",
    "u_mc = mc_sampling(n, 50, 10, 0.05, rng)"
   ]
  },
  {
   "cell_type": "code",
   "execution_count": 14,
   "metadata": {
    "execution": {
     "iopub.execute_input": "2020-12-16T22:04:52.719938Z",
     "iopub.status.busy": "2020-12-16T22:04:52.710198Z",
     "iopub.status.idle": "2020-12-16T22:04:52.860706Z",
     "shell.execute_reply": "2020-12-16T22:04:52.860008Z"
    }
   },
   "outputs": [
    {
     "data": {
      "image/png": "[encoded data removed]",
      "text/plain": [
       "<Figure size 432x288 with 1 Axes>"
      ]
     },
     "metadata": {},
     "output_type": "display_data"
    }
   ],
   "source": [
    "# MC and ode-solution give comparable results\n",
    "\n",
    "plt.plot(t, u/n, label='odeint $N$')\n",
    "plt.plot(u_mc/n, label='mc $N$')\n",
    "plt.xlabel('time (s)')\n",
    "plt.legend()\n",
    "plt.title(\"Single nucleus decay - Monte Carlo vs odeint\")\n",
    "plt.show()"
   ]
  },
  {
   "cell_type": "markdown",
   "metadata": {},
   "source": [
    "### Question 7 (Double Nuclei Decay - Deterministic)\n",
    "\n",
    "Model the decay of $n=1000$ particles up to time $t_{max}=50$ steps with $\\omega_Y = \\omega_X = 0.05$ using a differential equation.\n",
    "\n",
    " * Define array, `t`, to store the time points using `np.linspace` from 0 to $t_{max}$.\n",
    " * Define a function to represent the rhs of the above differential equation.\n",
    " * Using `scipy.integrate.odeint` to generate the required solution, save result as array, $u$."
   ]
  },
  {
   "cell_type": "code",
   "execution_count": 15,
   "metadata": {
    "execution": {
     "iopub.execute_input": "2020-12-16T22:04:52.864770Z",
     "iopub.status.busy": "2020-12-16T22:04:52.864237Z",
     "iopub.status.idle": "2020-12-16T22:04:52.866932Z",
     "shell.execute_reply": "2020-12-16T22:04:52.866380Z"
    }
   },
   "outputs": [],
   "source": [
    "# TODO\n",
    "u = np.array([0,0])"
   ]
  },
  {
   "cell_type": "code",
   "execution_count": 16,
   "metadata": {
    "execution": {
     "iopub.execute_input": "2020-12-16T22:04:52.885208Z",
     "iopub.status.busy": "2020-12-16T22:04:52.881831Z",
     "iopub.status.idle": "2020-12-16T22:04:53.032067Z",
     "shell.execute_reply": "2020-12-16T22:04:53.032514Z"
    }
   },
   "outputs": [
    {
     "data": {
      "image/png": "[encoded data removed]",
      "text/plain": [
       "<Figure size 432x288 with 1 Axes>"
      ]
     },
     "metadata": {},
     "output_type": "display_data"
    }
   ],
   "source": [
    "plt.plot(t, u.T[0]/n, label='odeint $N_X$')\n",
    "plt.plot(t, u.T[1]/n, label='odeint $N_Y$')\n",
    "plt.xlabel('time (s)')\n",
    "plt.legend()\n",
    "plt.title(\"Double Nucleus Decay - Deterministic \")\n",
    "plt.show()"
   ]
  },
  {
   "cell_type": "markdown",
   "metadata": {},
   "source": [
    "### Question 8 (Double Nuclei Decay - Monte Carlo)\n",
    "\n",
    "Model the decay of $n=1000$ particles up to time $t_{max}=50$ steps with $\\omega_Y = \\omega_X = 0.05$ \n",
    "using Monte Carlo simulation.\n",
    "\n",
    "**Algorithm**\n",
    "\n",
    " * Define zero array `result` of size `t_max + 1`. On return, `result[k]` will store the average number of unstable particles of X and of Y at time step `k`.\n",
    " * Loop over `n_samples`, where `n_samples` is the number of independent Monte Carlo samples.  For each sample:\n",
    "    * Initialse sample by setting `n_unstable` equal to `n`, and `total` equal to zero.\n",
    "    * Loop over each time step up to `t_max`. For each time step:\n",
    "       * Loop over each of the currently `n_unstable` particles. For each particle:\n",
    "           * Sample `x` from $\\sim {\\cal U}(0,1)$, and decay particle from X to Y if `x` is less than $\\omega_X$.\n",
    "           * Sample `x` from $\\sim {\\cal U}(0,1)$, and decay particle from Y if `x` is less than $\\omega_Y$.\n",
    "       * Add `n_unstable` to `total`.\n",
    "    * Save average number of unstable particles, `total/n_samples` to `result`.\n",
    " * Return array `result`\n"
   ]
  },
  {
   "cell_type": "code",
   "execution_count": 17,
   "metadata": {
    "execution": {
     "iopub.execute_input": "2020-12-16T22:04:53.037353Z",
     "iopub.status.busy": "2020-12-16T22:04:53.036837Z",
     "iopub.status.idle": "2020-12-16T22:04:53.039494Z",
     "shell.execute_reply": "2020-12-16T22:04:53.039885Z"
    }
   },
   "outputs": [],
   "source": [
    "# Answer\n",
    "def mc_sampling(n, t_max, n_samples, decay_probability, rnd):\n",
    "    return np.array([0,0])\n",
    "\n",
    "u2_mc = mc_sampling(n, 50, 10, 0.05, rng)  "
   ]
  },
  {
   "cell_type": "code",
   "execution_count": 18,
   "metadata": {
    "execution": {
     "iopub.execute_input": "2020-12-16T22:04:53.057039Z",
     "iopub.status.busy": "2020-12-16T22:04:53.056523Z",
     "iopub.status.idle": "2020-12-16T22:04:53.243052Z",
     "shell.execute_reply": "2020-12-16T22:04:53.242548Z"
    }
   },
   "outputs": [
    {
     "data": {
      "image/png": "[encoded data removed]",
      "text/plain": [
       "<Figure size 432x288 with 1 Axes>"
      ]
     },
     "metadata": {},
     "output_type": "display_data"
    }
   ],
   "source": [
    "plt.plot(t, u.T[0]/n, label='odeint $N_X$')\n",
    "plt.plot(u2_mc.T[0]/n, label='mc $N_X$')\n",
    "\n",
    "plt.plot(t, u.T[1]/n, label='odeint $N_Y$')\n",
    "plt.plot(u2_mc.T[1]/n, label='mc $N_Y$')\n",
    "\n",
    "plt.title(\"Double nuclei decay - Monto-Carlo vs odeint\")\n",
    "\n",
    "plt.xlabel('time (s)')\n",
    "plt.legend()\n",
    "plt.show()"
   ]
  },
  {
   "cell_type": "code",
   "execution_count": null,
   "metadata": {},
   "outputs": [],
   "source": []
  }
 ],
 "metadata": {
  "kernelspec": {
   "display_name": "Python 3",
   "language": "python",
   "name": "python3"
  },
  "language_info": {
   "codemirror_mode": {
    "name": "ipython",
    "version": 3
   },
   "file_extension": ".py",
   "mimetype": "text/x-python",
   "name": "python",
   "nbconvert_exporter": "python",
   "pygments_lexer": "ipython3",
   "version": "3.8.6"
  },
  "toc-autonumbering": true
 },
 "nbformat": 4,
 "nbformat_minor": 4
}
