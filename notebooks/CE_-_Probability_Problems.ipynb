{
 "cells": [
  {
   "cell_type": "markdown",
   "metadata": {},
   "source": [
    "# Probability Problems\n",
    "\n",
    "This notebook is a collection of basic and conditional probability problems. In each case the appropriate probability can be estimated using a simulation in python along the lines we covered in the lab sessions."
   ]
  },
  {
   "cell_type": "code",
   "execution_count": 77,
   "metadata": {},
   "outputs": [],
   "source": [
    "import numpy as np\n",
    "import matplotlib.pyplot as plt\n",
    "plt.style.use(['seaborn-darkgrid'])\n",
    "\n",
    "import numpy.random as rnd"
   ]
  },
  {
   "cell_type": "markdown",
   "metadata": {},
   "source": [
    "___\n",
    "## Question 1 &mdash; Four coin tosses\n",
    "\n",
    "A coin is tossed three times. What is the probability that exactly two heads occur, given that\n",
    "\n",
    " __(a)__ the first outcome was a head? \n",
    " \n",
    " __(b)__ the first outcome was a tail?\n",
    " \n",
    " __(c)__ the first two outcomes were heads? \n",
    " \n",
    " __(d)__ the first two outcomes were tails?\n",
    " \n",
    " __(e)__ the first outcome was a head and the third outcome was a head?"
   ]
  },
  {
   "cell_type": "markdown",
   "metadata": {},
   "source": [
    "### Q1a (the first outcome was a head?)"
   ]
  },
  {
   "cell_type": "code",
   "execution_count": null,
   "metadata": {},
   "outputs": [],
   "source": []
  },
  {
   "cell_type": "markdown",
   "metadata": {},
   "source": [
    "### Q1b (the first outcome was a tail?)"
   ]
  },
  {
   "cell_type": "code",
   "execution_count": null,
   "metadata": {},
   "outputs": [],
   "source": []
  },
  {
   "cell_type": "markdown",
   "metadata": {},
   "source": [
    "### Q1c (the first two outcomes were heads?)"
   ]
  },
  {
   "cell_type": "code",
   "execution_count": null,
   "metadata": {},
   "outputs": [],
   "source": []
  },
  {
   "cell_type": "markdown",
   "metadata": {},
   "source": [
    "### Q1d (the first two outcomes were tails?)"
   ]
  },
  {
   "cell_type": "code",
   "execution_count": null,
   "metadata": {},
   "outputs": [],
   "source": []
  },
  {
   "cell_type": "markdown",
   "metadata": {},
   "source": [
    "### Q1e (the first and the third outcome were both head?)"
   ]
  },
  {
   "cell_type": "code",
   "execution_count": null,
   "metadata": {},
   "outputs": [],
   "source": []
  },
  {
   "cell_type": "markdown",
   "metadata": {},
   "source": [
    "___\n",
    "## Question &mdash; Polya urn model for contagion\n",
    "\n",
    "The Polya urn model for contagion is as follows: We start with an urn which contains one white ball and one black ball. At each second we choose a ball at random from the urn and replace this ball and add one more of the color chosen. \n",
    "\n",
    "Write a program to simulate this model, and see if you can make any predictions about the proportion of white balls in the urn after a large number of draws. Is there a tendency to have a large fraction of balls of the same color in the long run?\n",
    "\n",
    "  __(a)__ What is the probability that after $k=100$ iterations the proportion of larger number of balls (white or black) is greater than 90%?\n",
    "  \n",
    "  __(b)__ What is the probability that the dominant color changes?  More specifically, what is the probability that the dominant colour after $k=100$ is the same as the dominant colour after $k=200$?\n",
    "\n",
    "  "
   ]
  },
  {
   "cell_type": "code",
   "execution_count": null,
   "metadata": {},
   "outputs": [],
   "source": []
  },
  {
   "cell_type": "markdown",
   "metadata": {},
   "source": [
    "___\n",
    "## Question &mdash; Gambler's Ruin\n",
    "\n",
    "Assume that we have 3 euro and our opponent has 7 euro. We are playing a fair game, where we bet 1 euro each time. \n",
    "\n",
    " __(a)__ What is the probability that they run out of money before we do?\n",
    " \n",
    " __(a)__ What is the average length of game?\n",
    " "
   ]
  },
  {
   "cell_type": "code",
   "execution_count": null,
   "metadata": {},
   "outputs": [],
   "source": []
  },
  {
   "cell_type": "code",
   "execution_count": null,
   "metadata": {},
   "outputs": [],
   "source": []
  },
  {
   "cell_type": "code",
   "execution_count": null,
   "metadata": {},
   "outputs": [],
   "source": []
  },
  {
   "cell_type": "markdown",
   "metadata": {},
   "source": [
    "___\n",
    "## Question &mdash; Hiding Fraudulent Claims\n",
    "\n",
    "A regular insurance claimant is trying to hide 3 fraudulent claims among 7 genuine claims. The claimant knows that the insurance company processes claims in batches of 5 or in batches of 10. For batches of 5, the insurance company will investigate one claim at random to check for fraud; for batches of 10, two of the claims are randomly selected for investigation. The claimant has three possible strategies:\n",
    "\n",
    " __(a)__ submit all 10 claims in a single batch,\n",
    " \n",
    " __(b)__ submit two batches of 5, one containing 2 fraudulent claims and the other containing 1,\n",
    " \n",
    " __(c)__ submit two batches of 5, one containing 3 fraudulent claims and the other containing 0.\n",
    " \n",
    "Implement each of the above strategies and estimate the probability that all three fraudulent claims will go undetected when using each strategy.\n",
    "\n",
    "What is the best strategy?"
   ]
  },
  {
   "cell_type": "code",
   "execution_count": null,
   "metadata": {},
   "outputs": [],
   "source": []
  },
  {
   "cell_type": "markdown",
   "metadata": {},
   "source": [
    "___\n",
    "## Question 5 &mdash; Chuck-a-Luck\n",
    "\n",
    "In the game of Chuck-a-Luck we throw three dice, each with six sides numbered 1 through 6. Players bet a euro on a number. If the number does not come up, the euro is lost. If the number comes up one or more times, the player wins as many euros as there are occurrences of the number.\n",
    "\n",
    "What is the expected value of this game? What is the average payout?"
   ]
  },
  {
   "cell_type": "code",
   "execution_count": null,
   "metadata": {},
   "outputs": [],
   "source": []
  },
  {
   "cell_type": "markdown",
   "metadata": {},
   "source": [
    "## Question 6 &mdash; Risk\n",
    "\n",
    "In the strategic board game called _Risk_, one player can attack up to three soldiers simultaneously, while the defending player can defend up to two. In the case of exactly three attackers and two defenders, the collision is as follows. An attacking player rolls three red dice while the defending player rolls two blue dice. Then they compare the biggest throws of the attacker and the defender. The lesser value loses a soldier, in the case of equal values the attacker loses one soldier. Then the second largest numbers are also compared in the same way. Thus, the battle has three outcomes: the attacker loses two soldiers, each side loses 1-1 soldiers, the defender loses two soldiers.\n",
    "\n",
    "Simulate 1,000,000 times the experiment and determine the relative frequency of the three events."
   ]
  },
  {
   "cell_type": "code",
   "execution_count": null,
   "metadata": {},
   "outputs": [],
   "source": []
  }
 ],
 "metadata": {
  "kernelspec": {
   "display_name": "Python 3",
   "language": "python",
   "name": "python3"
  },
  "language_info": {
   "codemirror_mode": {
    "name": "ipython",
    "version": 3
   },
   "file_extension": ".py",
   "mimetype": "text/x-python",
   "name": "python",
   "nbconvert_exporter": "python",
   "pygments_lexer": "ipython3",
   "version": "3.8.6"
  },
  "toc-autonumbering": true
 },
 "nbformat": 4,
 "nbformat_minor": 4
}
