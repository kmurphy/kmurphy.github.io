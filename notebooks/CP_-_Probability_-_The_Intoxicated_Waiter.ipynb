{
 "cells": [
  {
   "cell_type": "markdown",
   "metadata": {},
   "source": [
    "# Probability &mdash; The Intoxicated Waiter"
   ]
  },
  {
   "cell_type": "markdown",
   "metadata": {},
   "source": [
    "## Introduction\n",
    "\n",
    "---"
   ]
  },
  {
   "cell_type": "markdown",
   "metadata": {},
   "source": [
    "### Outline\n",
    "\n",
    "An intoxicated waiter in a restaurant takes food orders from a party of n people. \n",
    "Each person orders a different dish from the menu. \n",
    "The waiter gets the correct dishes but, forgetting who gave each order, gives out the food at random. \n",
    "\n",
    " * What the probability that no person gets the dish that they have ordered, as a function of the number of people?"
   ]
  },
  {
   "cell_type": "markdown",
   "metadata": {},
   "source": [
    "### Concepts/Skills Covered\n",
    "\n",
    " * **Theory** \n",
    "     * Basic Probability - permutations\n",
    " * **Analytical** \n",
    "     * None\n",
    " * **Numerical Techniques/Computation**\n",
    "     * None\n",
    " * **Visualisation**\n",
    "     * Improving graphs\n",
    "         * Labeling, line styles, legends\n",
    "         * Inserting horizontal/vertical marker lines, etc\n",
    "         * Including data values and mathematical notation in text\n",
    "     * Exporting/Saving to PDF/PNG formats\n",
    " * **Coding**\n",
    "      * Debug output to trace simulations\n",
    "      * Saving parameter dependent image files."
   ]
  },
  {
   "cell_type": "code",
   "execution_count": 3,
   "metadata": {},
   "outputs": [],
   "source": [
    "import numpy as np\n",
    "import matplotlib.pyplot as plt\n",
    "plt.style.use(['seaborn-darkgrid','seaborn-poster'])\n",
    "\n",
    "import numpy.random as rnd"
   ]
  },
  {
   "cell_type": "markdown",
   "metadata": {
    "toc-hr-collapsed": true,
    "toc-nb-collapsed": true
   },
   "source": [
    "---\n",
    "## Step 1 &mdash; Basic implementation using python lists\n"
   ]
  },
  {
   "cell_type": "code",
   "execution_count": null,
   "metadata": {},
   "outputs": [],
   "source": []
  },
  {
   "cell_type": "code",
   "execution_count": null,
   "metadata": {},
   "outputs": [],
   "source": []
  },
  {
   "cell_type": "code",
   "execution_count": null,
   "metadata": {},
   "outputs": [],
   "source": []
  },
  {
   "cell_type": "code",
   "execution_count": null,
   "metadata": {},
   "outputs": [],
   "source": []
  },
  {
   "cell_type": "code",
   "execution_count": null,
   "metadata": {},
   "outputs": [],
   "source": []
  },
  {
   "cell_type": "code",
   "execution_count": 2,
   "metadata": {},
   "outputs": [
    {
     "data": {
      "text/plain": [
       "[3, 4, 2, 1, 0]"
      ]
     },
     "execution_count": 2,
     "metadata": {},
     "output_type": "execute_result"
    }
   ],
   "source": [
    "N = 5\n",
    "\n",
    "meals = list(range(N))\n",
    "\n",
    "# shuffle meals\n",
    "rnd.seed(42)\n",
    "\n",
    "for k in range(N):\n",
    "    kk = rnd.randint(0,N)\n",
    "    meals[k], meals[kk] = meals[kk], meals[k] \n",
    "\n",
    "meals"
   ]
  },
  {
   "cell_type": "code",
   "execution_count": 3,
   "metadata": {},
   "outputs": [
    {
     "name": "stdout",
     "output_type": "stream",
     "text": [
      "0 0\n",
      "Person and order match at 0\n"
     ]
    }
   ],
   "source": [
    "# search for match\n",
    "match = -1\n",
    "for person, meal in enumerate(range(N)):\n",
    "    print(person, meal)\n",
    "    if person==meal:\n",
    "        match = person\n",
    "        break\n",
    "\n",
    "if match>-1:\n",
    "    print('Person and order match at', match)\n",
    "else:\n",
    "    print('No match')"
   ]
  },
  {
   "cell_type": "markdown",
   "metadata": {
    "toc-hr-collapsed": true,
    "toc-nb-collapsed": true
   },
   "source": [
    "---\n",
    "## Step 1 - Convert to functions\n",
    "---"
   ]
  },
  {
   "cell_type": "markdown",
   "metadata": {},
   "source": [
    "### `shuffle` generates a new random permutation"
   ]
  },
  {
   "cell_type": "code",
   "execution_count": 4,
   "metadata": {},
   "outputs": [
    {
     "name": "stdout",
     "output_type": "stream",
     "text": [
      "[3, 4, 2, 1, 0]\n",
      "\n",
      "Effect of N ...\n",
      "0 []\n",
      "2 [0, 1]\n",
      "5 [2, 0, 1, 3, 4]\n",
      "10 [7, 8, 2, 5, 9, 6, 1, 0, 3, 4]\n",
      "20 [0, 11, 4, 13, 12, 15, 3, 6, 5, 2, 19, 1, 9, 10, 14, 18, 7, 17, 16, 8]\n"
     ]
    }
   ],
   "source": [
    "def shuffle(N, seed=None):\n",
    "    \n",
    "    if seed is not None: rnd.seed(seed)\n",
    "        \n",
    "    meals = list(range(N))\n",
    "    \n",
    "    for k in range(N):\n",
    "        kk = rnd.randint(0,N)\n",
    "        meals[k], meals[kk] = meals[kk], meals[k] \n",
    "\n",
    "    return meals\n",
    "\n",
    "# produce previous output\n",
    "print(shuffle(N=5, seed=42))\n",
    "\n",
    "# effect of N, check edge cases\n",
    "print('\\nEffect of N ...')\n",
    "for n in [0, 2, 5, 10, 20]:\n",
    "    print(n, shuffle(N=n))"
   ]
  },
  {
   "cell_type": "markdown",
   "metadata": {},
   "source": [
    "### `find_match` finds first person with correct meal"
   ]
  },
  {
   "cell_type": "code",
   "execution_count": 5,
   "metadata": {},
   "outputs": [
    {
     "name": "stdout",
     "output_type": "stream",
     "text": [
      "0 3\n",
      "1 4\n",
      "2 2\n",
      "Person and order match at 0\n"
     ]
    }
   ],
   "source": [
    "def find_match(meals, debug=False):\n",
    "    \n",
    "    match = -1\n",
    "    for person, meal in enumerate(meals):\n",
    "        if debug: print(person, meal)\n",
    "        if person == meal:\n",
    "            return person\n",
    "\n",
    "    return match\n",
    "\n",
    "meals = shuffle(N=5, seed=42)\n",
    "if find_match(meals, True)>-1:\n",
    "    print('Person and order match at', match)\n",
    "else:\n",
    "    print('No match')"
   ]
  },
  {
   "cell_type": "markdown",
   "metadata": {},
   "source": [
    "### `run_trials` runs experiment multiple times to estimate probability of successes"
   ]
  },
  {
   "cell_type": "code",
   "execution_count": 6,
   "metadata": {},
   "outputs": [],
   "source": [
    "def run_trails(K=1000, N=5, debug=False, seed=None):\n",
    "    \n",
    "    if seed is not None: rnd.seed(seed)\n",
    "        \n",
    "    count = 0\n",
    "   \n",
    "    for k in range(K): \n",
    "        meals = shuffle(N=N)\n",
    "        match = find_match(meals)\n",
    "        if debug: print(meals, match)\n",
    "        if match==-1: count+=1\n",
    "    \n",
    "    return count/K"
   ]
  },
  {
   "cell_type": "markdown",
   "metadata": {},
   "source": [
    "### Test using known edge cases"
   ]
  },
  {
   "cell_type": "code",
   "execution_count": 7,
   "metadata": {},
   "outputs": [
    {
     "data": {
      "text/plain": [
       "(0.52, 0.5)"
      ]
     },
     "execution_count": 7,
     "metadata": {},
     "output_type": "execute_result"
    }
   ],
   "source": [
    "# only two people - order wrong 50% of the time\n",
    "run_trails(100,2), 1/2"
   ]
  },
  {
   "cell_type": "code",
   "execution_count": 8,
   "metadata": {},
   "outputs": [
    {
     "data": {
      "text/plain": [
       "(0.324, 0.3333333333333333)"
      ]
     },
     "execution_count": 8,
     "metadata": {},
     "output_type": "execute_result"
    }
   ],
   "source": [
    "# only three people - order wrong 2/6 of the time\n",
    "run_trails(1000,3), 2/6"
   ]
  },
  {
   "cell_type": "code",
   "execution_count": 9,
   "metadata": {},
   "outputs": [
    {
     "data": {
      "text/plain": [
       "(0.399, 0.375)"
      ]
     },
     "execution_count": 9,
     "metadata": {},
     "output_type": "execute_result"
    }
   ],
   "source": [
    "# only four people - order wrong 9/24 of the time\n",
    "run_trails(1000,4), 9/24"
   ]
  },
  {
   "cell_type": "code",
   "execution_count": 10,
   "metadata": {},
   "outputs": [
    {
     "data": {
      "text/plain": [
       "(0.385, 0.3680555555555556)"
      ]
     },
     "execution_count": 10,
     "metadata": {},
     "output_type": "execute_result"
    }
   ],
   "source": [
    "# only six people - order wrong 265/720 of the time\n",
    "run_trails(1000,6), 265/720"
   ]
  },
  {
   "cell_type": "markdown",
   "metadata": {},
   "source": [
    "**Conclusions**\n",
    "\n",
    " * It appears to be working for case $N=2$ and $N=3$, but for larger $N$ it does seems to be overestimating. Is this sampling error? Do we need more trials?"
   ]
  },
  {
   "cell_type": "markdown",
   "metadata": {},
   "source": [
    "### Relationship with $N$ "
   ]
  },
  {
   "cell_type": "code",
   "execution_count": 11,
   "metadata": {},
   "outputs": [],
   "source": [
    "K = 1000\n",
    "n_values = range(3, 100, 3)\n",
    "pr_values = [run_trails(K=K, N=n) for n in n_values]"
   ]
  },
  {
   "cell_type": "code",
   "execution_count": 12,
   "metadata": {},
   "outputs": [
    {
     "data": {
      "image/png": "[encoded data removed]",
      "text/plain": [
       "<Figure size 921.6x633.6 with 1 Axes>"
      ]
     },
     "metadata": {},
     "output_type": "display_data"
    }
   ],
   "source": [
    "plt.plot(n_values,pr_values, 'o')\n",
    "plt.title('Probability of 100%% wrong order ($K=%s$)' % K)\n",
    "plt.ylabel('probability')\n",
    "plt.xlabel('$N$')\n",
    "plt.savefig('Intoxicated_Waiter_lists_%s.png' % (K), bbox_inches='tight')\n",
    "plt.show()"
   ]
  },
  {
   "cell_type": "code",
   "execution_count": 13,
   "metadata": {},
   "outputs": [
    {
     "name": "stdout",
     "output_type": "stream",
     "text": [
      "Probability is tending towards 0.43424999999999997\n"
     ]
    }
   ],
   "source": [
    "# drop initial values (as interested for N large)\n",
    "values = pr_values[5:]\n",
    "print ('Probability is tending towards', sum(values) / len(values))"
   ]
  },
  {
   "cell_type": "markdown",
   "metadata": {},
   "source": [
    "### Timing"
   ]
  },
  {
   "cell_type": "code",
   "execution_count": 14,
   "metadata": {},
   "outputs": [
    {
     "name": "stdout",
     "output_type": "stream",
     "text": [
      "3.75 s ± 80.4 ms per loop (mean ± std. dev. of 7 runs, 1 loop each)\n"
     ]
    }
   ],
   "source": [
    "%timeit run_trails(100000,10)  # lots of runs, few people"
   ]
  },
  {
   "cell_type": "code",
   "execution_count": 15,
   "metadata": {},
   "outputs": [
    {
     "name": "stdout",
     "output_type": "stream",
     "text": [
      "3.54 s ± 87 ms per loop (mean ± std. dev. of 7 runs, 1 loop each)\n"
     ]
    }
   ],
   "source": [
    "%timeit run_trails(10000,100)  # medium runs, medium people"
   ]
  },
  {
   "cell_type": "code",
   "execution_count": 16,
   "metadata": {},
   "outputs": [
    {
     "name": "stdout",
     "output_type": "stream",
     "text": [
      "3.66 s ± 115 ms per loop (mean ± std. dev. of 7 runs, 1 loop each)\n"
     ]
    }
   ],
   "source": [
    "%timeit run_trails(1000,1000)  # few runs, lots of people"
   ]
  },
  {
   "cell_type": "markdown",
   "metadata": {},
   "source": [
    "---\n",
    "## Step 2 &mdash; Convert to functions"
   ]
  },
  {
   "cell_type": "code",
   "execution_count": null,
   "metadata": {},
   "outputs": [],
   "source": []
  },
  {
   "cell_type": "code",
   "execution_count": null,
   "metadata": {},
   "outputs": [],
   "source": []
  },
  {
   "cell_type": "code",
   "execution_count": null,
   "metadata": {},
   "outputs": [],
   "source": []
  },
  {
   "cell_type": "code",
   "execution_count": null,
   "metadata": {},
   "outputs": [],
   "source": []
  },
  {
   "cell_type": "markdown",
   "metadata": {},
   "source": [
    "---\n",
    "## Step 3 &mdash; `numpy` implementation"
   ]
  },
  {
   "cell_type": "code",
   "execution_count": null,
   "metadata": {},
   "outputs": [],
   "source": []
  },
  {
   "cell_type": "code",
   "execution_count": null,
   "metadata": {},
   "outputs": [],
   "source": []
  },
  {
   "cell_type": "code",
   "execution_count": null,
   "metadata": {},
   "outputs": [],
   "source": []
  },
  {
   "cell_type": "code",
   "execution_count": null,
   "metadata": {},
   "outputs": [],
   "source": []
  },
  {
   "cell_type": "code",
   "execution_count": null,
   "metadata": {},
   "outputs": [],
   "source": []
  },
  {
   "cell_type": "markdown",
   "metadata": {},
   "source": [
    "---\n",
    "## Step 4 &mdash; Tests\n",
    "\n",
    " * Reconcile implementations \n",
    " * Test using known edge cases"
   ]
  },
  {
   "cell_type": "code",
   "execution_count": null,
   "metadata": {},
   "outputs": [],
   "source": []
  },
  {
   "cell_type": "code",
   "execution_count": null,
   "metadata": {},
   "outputs": [],
   "source": []
  },
  {
   "cell_type": "code",
   "execution_count": null,
   "metadata": {},
   "outputs": [],
   "source": []
  },
  {
   "cell_type": "markdown",
   "metadata": {},
   "source": [
    "---\n",
    "## Conclusions\n",
    "\n",
    " * \n",
    "\n"
   ]
  },
  {
   "cell_type": "code",
   "execution_count": null,
   "metadata": {},
   "outputs": [],
   "source": []
  }
 ],
 "metadata": {
  "kernelspec": {
   "display_name": "Python 3",
   "language": "python",
   "name": "python3"
  },
  "language_info": {
   "codemirror_mode": {
    "name": "ipython",
    "version": 3
   },
   "file_extension": ".py",
   "mimetype": "text/x-python",
   "name": "python",
   "nbconvert_exporter": "python",
   "pygments_lexer": "ipython3",
   "version": "3.8.6"
  }
 },
 "nbformat": 4,
 "nbformat_minor": 4
}
