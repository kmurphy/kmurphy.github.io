{
 "cells": [
  {
   "cell_type": "markdown",
   "metadata": {},
   "source": [
    "# Probability &mdash; Distributions\n",
    "\n",
    "This notebook is a collection of probability problems that can be solved using discrete and continuous probability distributions.\n",
    "\n",
    "You should review problems in sides:\n",
    "\n",
    " * [Discrete random variables](https://kmurphy.bitbucket.io/modules/Computational_Physics/topics/02-Computational_Problems_involving_Probability/index.html#10-Discrete_Random_Variables)\n",
    " * [Continuous random variables](https://kmurphy.bitbucket.io/modules/Computational_Physics/topics/02-Computational_Problems_involving_Probability/index.html#20-Continuous_Random_Variables)\n"
   ]
  },
  {
   "cell_type": "code",
   "execution_count": 1,
   "metadata": {
    "execution": {
     "iopub.execute_input": "2020-11-25T13:14:55.404193Z",
     "iopub.status.busy": "2020-11-25T13:14:55.402930Z",
     "iopub.status.idle": "2020-11-25T13:14:56.865200Z",
     "shell.execute_reply": "2020-11-25T13:14:56.864584Z"
    }
   },
   "outputs": [],
   "source": [
    "import numpy as np\n",
    "import matplotlib.pyplot as plt\n",
    "plt.style.use(\"seaborn-darkgrid\")\n",
    "\n",
    "from scipy import stats"
   ]
  },
  {
   "cell_type": "markdown",
   "metadata": {},
   "source": [
    "## Discrete Distributions"
   ]
  },
  {
   "cell_type": "markdown",
   "metadata": {},
   "source": [
    "---\n",
    "### Question 1\n",
    "\n",
    "Suppose it takes at least 9 votes from a 12-member jury to convict a defendant. Every defendant is either guilty or innocent. If the defendant is guilty, then every juror has a probability of 0.75 of casting a \"guilty\" vote. If the defendant is innocent, then every juror has a probability of 0.15 of casting a \"guilty\" vote. Each juror acts independently.\n",
    "\n",
    " __(a)__ If a defendant is actually guilty, find the probability that the jury renders the correct decision.  \n",
    "\n",
    " __(b)__ If a defendant is actually innocent, find the probability that the jury renders the correct decision.  \n",
    " \n",
    " __(c)__ If 70% of defendants are actually guilty, find the probability that the jury renders a correct decision.  \n",
    "  \n",
    " __(d)__ Determine the percentage of defendants found guilty by the jury.\n",
    "    "
   ]
  },
  {
   "cell_type": "markdown",
   "metadata": {},
   "source": [
    "**(a) defendant is guilty ... probability ... the correct decision?**"
   ]
  },
  {
   "cell_type": "code",
   "execution_count": null,
   "metadata": {},
   "outputs": [],
   "source": []
  },
  {
   "cell_type": "markdown",
   "metadata": {},
   "source": [
    "**(b) defendant is innocent ... probability ... the correct decision?**"
   ]
  },
  {
   "cell_type": "code",
   "execution_count": null,
   "metadata": {},
   "outputs": [],
   "source": []
  },
  {
   "cell_type": "markdown",
   "metadata": {},
   "source": [
    "**(c) If 70% of defendants are guilty ... probability ... correct decision**"
   ]
  },
  {
   "cell_type": "code",
   "execution_count": null,
   "metadata": {},
   "outputs": [],
   "source": []
  },
  {
   "cell_type": "markdown",
   "metadata": {},
   "source": [
    "**(d) Determine the percentage of defendants found guilty by the jury**"
   ]
  },
  {
   "cell_type": "code",
   "execution_count": null,
   "metadata": {},
   "outputs": [],
   "source": []
  },
  {
   "cell_type": "markdown",
   "metadata": {},
   "source": [
    "---\n",
    "### Question 2\n",
    "\n",
    "Lyft line gets 2 requests per 5 minutes, on average, for a particular route. A user requests the route and Lyft commits a car to take her. All users who request the route in the next five minutes will be added to the car &mdash; as long as the car has space. The car can fit up to three users. Lyft will make 6 euro for each user in the car (the revenue) minus 7 euro (the operating cost). How much does Lyft expect to make from this trip?\n",
    "\n",
    " __(a)__ How much does Lyft expect to make from this trip?\n",
    " \n",
    " __(b)__ Lyft has one space left in the car and wants to wait to get another user. What is the probability that another user will make a request in the next 15 seconds?"
   ]
  },
  {
   "cell_type": "markdown",
   "metadata": {},
   "source": [
    "**(a) How much does Lyft expect to make from this trip?**"
   ]
  },
  {
   "cell_type": "code",
   "execution_count": null,
   "metadata": {},
   "outputs": [],
   "source": []
  },
  {
   "cell_type": "markdown",
   "metadata": {},
   "source": [
    "**(b) ...probability that another user will make a request in the next 15 seconds?**"
   ]
  },
  {
   "cell_type": "code",
   "execution_count": null,
   "metadata": {},
   "outputs": [],
   "source": []
  },
  {
   "cell_type": "markdown",
   "metadata": {},
   "source": [
    "---\n",
    "### Question 3\n",
    "\n",
    "When sending binary data to satellites (or really over any noisy channel) the bits can be flipped with high probabilities. In 1947 Richard Hamming developed a system to more reliably send data. By using Error Correcting Hamming Codes, you can send a stream of 4 bits with 3 redundant bits. If zero or one of the seven bits are corrupted, using error correcting codes, a receiver can identify the original 4 bits.\n",
    "Lets consider the case of sending a signal to a satellite where each bit is independently flipped with probability $p = 0.1$.\n",
    "\n",
    "\n",
    "__(a)__ If you send 4 bits, what is the probability that the correct message was received (i.e. none of the bits are flipped).\n",
    "\n",
    "__(b)__ If you send 4 bits, with 3 Hamming error correcting bits, what is the probability that a correctable message was received?\n",
    "\n",
    "__(c)__ Instead of using Hamming codes, you decide to send 5 copies of each of the four bits. If for every single bit, more than half of the copies are not flipped, the signal will be correctable. What is the probability that a correctable message was received?\n",
    "\n",
    "Note: \n",
    "You should find probability of a correctable message in __(c)__ is higher than in __(b)__ but in __(c)__ the number of bits used, 20, is nearly three times the 7 bits used in __(b)__."
   ]
  },
  {
   "cell_type": "markdown",
   "metadata": {},
   "source": [
    "**(a) ... send 4 bits ... probability that the correct message was received**"
   ]
  },
  {
   "cell_type": "code",
   "execution_count": null,
   "metadata": {},
   "outputs": [],
   "source": []
  },
  {
   "cell_type": "markdown",
   "metadata": {},
   "source": [
    "**(b) ... send 4 bits, with 3 Hamming error correcting bits ... probability ... correctable message**"
   ]
  },
  {
   "cell_type": "code",
   "execution_count": null,
   "metadata": {},
   "outputs": [],
   "source": []
  },
  {
   "cell_type": "markdown",
   "metadata": {},
   "source": [
    "**(c) ... send 5 copies of each of the four bits ... probability ... correctable message**"
   ]
  },
  {
   "cell_type": "code",
   "execution_count": null,
   "metadata": {},
   "outputs": [],
   "source": []
  },
  {
   "cell_type": "markdown",
   "metadata": {},
   "source": [
    "## Continuous Distributions"
   ]
  },
  {
   "cell_type": "markdown",
   "metadata": {},
   "source": [
    "---\n",
    "### Question 4\n",
    "\n",
    "Let $X$ be a continuous random variable with probability density function:\n",
    "$$\n",
    "f(x) = \\left\\{\\begin{array}{cc}\n",
    "    c\\left(2-2 x^{2}\\right) & -1<x<1 \\\\\n",
    "    0 & \\text { otherwise }\n",
    "    \\end{array}\\right.\n",
    "$$\n",
    "\n",
    "__(a)__ What is the value of $c$?\n",
    " \n",
    "__(b)__ Generate a graph of the PDF and the CDF of $X$?\n",
    " \n",
    "__(c)__ What is $\\mathrm{E}[X]$?\n",
    " \n",
    "__(d)__ What is $\\mathrm{Var}[X]$?"
   ]
  },
  {
   "cell_type": "markdown",
   "metadata": {},
   "source": [
    "**(a) What is the value of $c$?**"
   ]
  },
  {
   "cell_type": "code",
   "execution_count": null,
   "metadata": {},
   "outputs": [],
   "source": []
  },
  {
   "cell_type": "markdown",
   "metadata": {},
   "source": [
    "**(b) Generate a graph of the PDF and the CDF of $X$?**"
   ]
  },
  {
   "cell_type": "code",
   "execution_count": null,
   "metadata": {},
   "outputs": [],
   "source": []
  },
  {
   "cell_type": "markdown",
   "metadata": {},
   "source": [
    "**(c) What is $\\mathrm{E}[X]$?**"
   ]
  },
  {
   "cell_type": "code",
   "execution_count": null,
   "metadata": {},
   "outputs": [],
   "source": []
  },
  {
   "cell_type": "markdown",
   "metadata": {},
   "source": [
    "**(d) What is $\\mathrm{Var}[X]$?**"
   ]
  },
  {
   "cell_type": "code",
   "execution_count": null,
   "metadata": {},
   "outputs": [],
   "source": []
  },
  {
   "cell_type": "markdown",
   "metadata": {},
   "source": [
    "### Question 5\n",
    "\n",
    "On average, visitors leave your website after 5 minutes. Assume that the length of stay is exponentially distributed. What is the probability that a user stays more than 10 minutes?"
   ]
  },
  {
   "cell_type": "code",
   "execution_count": null,
   "metadata": {},
   "outputs": [],
   "source": []
  },
  {
   "cell_type": "markdown",
   "metadata": {},
   "source": [
    "---\n",
    "### Question 6\n",
    "\n",
    "Your website has 100 users and each day each user independently has a 20% chance of logging into your website. \n",
    "\n",
    "__(a)__ Calculate the probability that more than 21 users log in.\n",
    "\n",
    "__(b)__ Use a normal approximation to estimate the probability that more than 21 users log in."
   ]
  },
  {
   "cell_type": "markdown",
   "metadata": {},
   "source": [
    "**(a) Calculate the probability that more than 21 users log in.**\n",
    "\n"
   ]
  },
  {
   "cell_type": "code",
   "execution_count": null,
   "metadata": {},
   "outputs": [],
   "source": []
  },
  {
   "cell_type": "markdown",
   "metadata": {},
   "source": [
    "**(b) Use a normal approximation to estimate the probability that more than 21 users log in.**"
   ]
  },
  {
   "cell_type": "code",
   "execution_count": null,
   "metadata": {},
   "outputs": [],
   "source": []
  },
  {
   "cell_type": "markdown",
   "metadata": {},
   "source": [
    "---\n",
    "### Question 7\n",
    "\n",
    "You are testing software and discover that your program has a non-deterministic bug that causes catastrophic failure (such bugs are often called __hindenbug__). Your program was tested for 400 hours and the bug occurred twice.\n",
    "\n",
    "__(a)__ Each user uses your program to complete a three hour long task. If the bug manifests they will immediately stop their work. What is the probability that the bug manifests for a given user?\n",
    "\n",
    "__(b)__ Your program is used by one million users, each for the three hour long task. Use a normal approximation to the binomial to estimate the probability that more than 15,000 users experience the bug. Use your answer from part (a) for parameter $p$.\n",
    "\n",
    "    "
   ]
  },
  {
   "cell_type": "markdown",
   "metadata": {},
   "source": [
    "**(a) ... a three hour long task ... probability that the bug occurs**"
   ]
  },
  {
   "cell_type": "code",
   "execution_count": null,
   "metadata": {},
   "outputs": [],
   "source": []
  },
  {
   "cell_type": "markdown",
   "metadata": {},
   "source": [
    "**(b) ... used by one million users ... the probability that more than 15,000 users experience the bug.**"
   ]
  },
  {
   "cell_type": "code",
   "execution_count": null,
   "metadata": {},
   "outputs": [],
   "source": []
  },
  {
   "cell_type": "markdown",
   "metadata": {},
   "source": [
    "---\n",
    "### Question 8\n",
    " \n",
    "Two pseudo random number generators are used to simulate a sequence 300 independent flips of a fair coin (T means a tails was flipped, H means a head was flipped). Below are the two sequences (from the two random generators). \n",
    "\n",
    "Construct a test to determine which one is a better random generator? \n",
    "\n",
    "Sequence a:\n",
    "\n",
    "    TTHHTHTTHTTTHTTTHTTTHTTHTHHTHHTHTHHTTTHHTHTHTTHTHHTTHTHHT\n",
    "    HTTTHHTTHHTTHHHTHHTHTTHTHTTHHTHHHTTHTHTTTHHTTHTHTHTHTHTT\n",
    "    HTHTHHHTTHTHTHHTHHHTHTHTTHTTHHTHTHTHTTHHTTHTHTTHHHTHTHTH\n",
    "    TTHTTHHTTHTHHTHHHTTHHTHTTHTHTHTHTHTHTHHHTHTHTHTTHTHHTHTH\n",
    "    TTHTTTHHTHTTTHTHHTHHHHTTTHHTHTHTHTHHHTTHHTHTTTHTHHTHTHTH\n",
    "    HTHTTHTTHTHHTHTHTTT\n",
    "\n",
    "Sequence b:\n",
    "\n",
    "    HTHHHTHTTHHTTTTTTTTHHHTTTHHTTTTHHTTHHHTTHTHTTTTTTHTHTTTTH\n",
    "    HHHTHTHTTHTTTHTTHTTTTHTHHTHHHHTTTTTHHHHTHHHTTTTHTHTTHHHH\n",
    "    THHHHHHHHTTHHTHHTHHHHHHHTTHTHTTTHHTTTTHTHHTTHTTHTHTHTTHH\n",
    "    HHHTTHTTTHTHTHHTTTTHTTTTTHHTHTHHHHTTTTHTHHHHHHTHTHTHTHHH\n",
    "    THTTHHHTHHHHHHTHHHTHTTTHHHTTTHHTHTTHHTHHHTHTTHTTHTTTHHTH\n",
    "    THTTTTHTHTHTTHTHTHT\n",
    "    \n",
    "The sequences are converted to integer arrays to simplify analysis in the following cell. "
   ]
  },
  {
   "cell_type": "code",
   "execution_count": 2,
   "metadata": {
    "execution": {
     "iopub.execute_input": "2020-11-25T13:14:56.872448Z",
     "iopub.status.busy": "2020-11-25T13:14:56.871921Z",
     "iopub.status.idle": "2020-11-25T13:14:56.874349Z",
     "shell.execute_reply": "2020-11-25T13:14:56.873815Z"
    }
   },
   "outputs": [],
   "source": [
    "a = \"TTHHTHTTHTTTHTTTHTTTHTTHTHHTHHTHTHHTTTHHTHTHTTHTHHTTHTHHTHTTTHHTTHHTTHHHTHHTHTTHTHTTHHTHHHTTHTHTTTHHTTHTHTHTHTHTTHTHTHHHTTHTHTHHTHHHTHTHTTHTTHHTHTHTHTTHHTTHTHTTHHHTHTHTHTTHTTHHTTHTHHTHHHTTHHTHTTHTHTHTHTHTHTHHHTHTHTHTTHTHHTHTHTTHTTTHHTHTTTHTHHTHHHHTTTHHTHTHTHTHHHTTHHTHTTTHTHHTHTHTHHTHTTHTTHTHHTHTHTTT\"\n",
    "b = \"HTHHHTHTTHHTTTTTTTTHHHTTTHHTTTTHHTTHHHTTHTHTTTTTTHTHTTTTHHHHTHTHTTHTTTHTTHTTTTHTHHTHHHHTTTTTHHHHTHHHTTTTHTHTTHHHHTHHHHHHHHTTHHTHHTHHHHHHHTTHTHTTTHHTTTTHTHHTTHTTHTHTHTTHHHHHTTHTTTHTHTHHTTTTHTTTTTHHTHTHHHHTTTTHTHHHHHHTHTHTHTHHHTHTTHHHTHHHHHHTHHHTHTTTHHHTTTHHTHTTHHTHHHTHTTHTTHTTTHHTHTHTTTTHTHTHTTHTHTHT\"\n",
    "a = np.array(list(a.replace(\"H\", \"0\").replace(\"T\", \"1\")), dtype=int)\n",
    "b = np.array(list(b.replace(\"H\", \"0\").replace(\"T\", \"1\")), dtype=int)"
   ]
  },
  {
   "cell_type": "code",
   "execution_count": null,
   "metadata": {},
   "outputs": [],
   "source": []
  }
 ],
 "metadata": {
  "kernelspec": {
   "display_name": "Python 3",
   "language": "python",
   "name": "python3"
  },
  "language_info": {
   "codemirror_mode": {
    "name": "ipython",
    "version": 3
   },
   "file_extension": ".py",
   "mimetype": "text/x-python",
   "name": "python",
   "nbconvert_exporter": "python",
   "pygments_lexer": "ipython3",
   "version": "3.9.0"
  },
  "toc-autonumbering": false
 },
 "nbformat": 4,
 "nbformat_minor": 4
}
