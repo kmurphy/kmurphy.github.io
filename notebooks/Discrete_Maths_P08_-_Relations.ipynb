{
  "nbformat": 4,
  "nbformat_minor": 0,
  "metadata": {
    "kernelspec": {
      "display_name": "Python 3",
      "language": "python",
      "name": "python3"
    },
    "language_info": {
      "codemirror_mode": {
        "name": "ipython",
        "version": 3
      },
      "file_extension": ".py",
      "mimetype": "text/x-python",
      "name": "python",
      "nbconvert_exporter": "python",
      "pygments_lexer": "ipython3",
      "version": "3.9.0"
    },
    "toc": {
      "toc_cell": false,
      "toc_number_sections": true,
      "toc_threshold": 6,
      "toc_window_display": false
    },
    "toc-autonumbering": false,
    "colab": {
      "name": "Copy of Discrete_Maths_P08_-_Relations.ipynb",
      "provenance": []
    }
  },
  "cells": [
    {
      "cell_type": "markdown",
      "metadata": {
        "label": "title",
        "id": "Dajafvz5obcM"
      },
      "source": [
        "# Practical 08 - Relations"
      ]
    },
    {
      "cell_type": "markdown",
      "metadata": {
        "label": "setup",
        "id": "dGUHvpDUobcN"
      },
      "source": [
        "## Setup"
      ]
    },
    {
      "cell_type": "code",
      "metadata": {
        "label": "bio",
        "cellView": "form",
        "id": "CXsnfskuobcN"
      },
      "source": [
        "#@markdown **Please enter your following details and press Shift-Enter to save:**\n",
        "your_student_number = '' #@param {type: \"string\"}\n",
        "your_name = '' #@param {type: \"string\"}"
      ],
      "execution_count": null,
      "outputs": []
    },
    {
      "cell_type": "code",
      "metadata": {
        "label": "setup",
        "id": "gI-1sOMPobcN"
      },
      "source": [
        "# setup magic, do not edit this cell! Just press Shift+Enter or click on arrow at top-left\n",
        "\n",
        "import urllib.request\n",
        "content = urllib.request.urlretrieve (\"https://kmurphy.bitbucket.io/modules/Discrete_Mathematics/resources/setup_practical_magic.py\")\n",
        "exec(open(content[0]).read())\n",
        "setup_practical(locals())"
      ],
      "execution_count": null,
      "outputs": []
    },
    {
      "cell_type": "markdown",
      "metadata": {
        "label": "Introduction",
        "id": "gIumxI6cobcN"
      },
      "source": [
        "---\n",
        "## Introduction\n",
        "\n",
        "In this practical we will construct relations and use python to verify their properties"
      ]
    },
    {
      "cell_type": "markdown",
      "metadata": {
        "id": "33Q2c3APobcN"
      },
      "source": [
        "### Mathematics Concepts\n",
        "\n",
        "**Cartesian product**\n",
        "\n",
        " * The __Cartesian product__ of two sets, $A$ and $B$, is \n",
        "$$A \\times B = \\{ (a,b) \\mid  a\\in A, b\\in B\\}$$\n",
        "or in English, it is the set of pairs of __ordered__ values. \"Ordered\" means that the first value in the pair is from the first set, $A$, and the second value is from the second set $B$.\n",
        "\n",
        " * The __Cartesian product__ of a set, $A$ with itself is \n",
        "$$A \\times A = \\{ (a,b) \\mid a\\in A, b\\in A\\}$$\n",
        "or in English, it is the set of pairs of ordered values, the first value is from set $A$ and the second value is from set $A$.\n",
        "\n",
        "**Relations**\n",
        "\n",
        "  * A __relation__ from set $A$ to set $B$ is a subset of the __Cartesian product__ $A \\times B$. \n",
        "    * Hence we can use the subset property to check if something is a relation or not. \n",
        "    * General expression for a relation from set $A$ to set $B$ is \n",
        "    $$ R = \\{ (a,b) \\mid  a\\in A, b\\in B\\ \\text{with}\\ SOME\\_CONDITION \\} $$ \n",
        "  \n",
        "  * Relations on a set have properties such as (check your notes for precise definitions).\n",
        "    * symmetric, reflexive, transitive\n",
        "    * irreflexive, asymmetric, anti-symmetric\n",
        "    \n"
      ]
    },
    {
      "cell_type": "markdown",
      "metadata": {
        "id": "0vNLy3ZBobcO"
      },
      "source": [
        "### Python Concepts\n",
        "\n",
        " * Cartesian product\n",
        " * Relations\n",
        "   * Checking relations using the `issubset` property of sets.\n",
        "   * Checking properties of relations using python programming\n",
        "\n",
        "From earlier practicals:\n",
        "\n",
        " * Set builder notation, check membership using `in` operator.\n",
        " * Using `len` to check for cardinality.\n",
        " * Using sets to check for duplicates &mdash; remember converting a `list` to `set` and results in fewer elements if there are duplicates.\n",
        "\n",
        " "
      ]
    },
    {
      "cell_type": "markdown",
      "metadata": {
        "id": "gE6P3C-VobcO"
      },
      "source": [
        "---\n",
        "## Cartesian Product  \n",
        "\n",
        " * The __Cartesian product__ of two sets, `A` and `B`, in python is \n",
        "\n",
        "~~~python\n",
        "    { (a,b) for a in A for b in B }\n",
        "~~~\n",
        "\n",
        " * The __Cartesian product__ of a set, `A` with itself, in python is \n",
        "\n",
        "~~~python\n",
        "    { (a,b) for a in A for b in A }\n",
        "~~~\n",
        "   Note: Just like in the Mathematics version above we needed to use a second symbol (here `b`) to represent the second value in the ordered pair.\n",
        "\n",
        "Finally to output the number of elements in a set (or a relation), `S`, we can use a `print` call.\n",
        "\n",
        "~~~python\n",
        "print(\"Number of elements in S =\", len(S))\n",
        "~~~"
      ]
    },
    {
      "cell_type": "markdown",
      "metadata": {
        "id": "t1PZ9jnUobcO"
      },
      "source": [
        "### Question 1\n",
        "\n",
        "To simply matters later we will start by defining some sets that will be used in subsequent questions.\n",
        "\n",
        "Define the following sets in python, and print them with a label and print out its size. (this first set is done for you).\n",
        "\n",
        " * Define set `A`, the set of positive integers less than or equal to 20, i.e., $A = \\{1,\\ldots,20\\}$\n",
        " * Define set `P`, the set of prime numbers less than or equal to 20. (there are only 8 so you can just list them)\n",
        " * Define set `V`, the set of lowercase vowels. Remember you need the put characters within quotes in python.\n",
        " * Define set `D`, the set of digits (0 to 9).\n",
        " * Define set `E`, the empty set.\n"
      ]
    },
    {
      "cell_type": "code",
      "metadata": {
        "label": "Q0",
        "id": "atuZEJKEobcO"
      },
      "source": [
        "# Question 1\n",
        "\n",
        "A = set(range(1,21))\n",
        "print(\"A =\", A, \"\\nNumber of elements =\", len(A))\n",
        "\n",
        "\n"
      ],
      "execution_count": null,
      "outputs": []
    },
    {
      "cell_type": "markdown",
      "metadata": {
        "id": "dRvaBCsLobcO"
      },
      "source": [
        "### Question 2\n",
        "\n",
        "Define set `C` as the Cartesian product of the set `A` and the set `V` (from Question 1). \n",
        "Print out `C` and print out the size of `C`.\n",
        "\n",
        "Notes on answer:\n",
        "\n",
        " * The Cartesian set becomes very large when input sets are large.\n",
        " * The pairs contain ordered values - \"ordered\" is not the same as \"sorted\". Ordered here means that within each pair the first value (a number) comes form the first set, and the second value (a letter) comes from the second set. \n",
        " * The \"pairs contain ordered values\" is different to saying \"the pairs are ordered\". In fact, since a Cartesian product is a set the  order of the pairs is not a concern."
      ]
    },
    {
      "cell_type": "code",
      "metadata": {
        "id": "eC0CoL88obcO"
      },
      "source": [
        "# Question 2\n"
      ],
      "execution_count": null,
      "outputs": []
    },
    {
      "cell_type": "markdown",
      "metadata": {
        "id": "5shfOgLsobcO"
      },
      "source": [
        "### Question 3 (Cartesian product with empty sets)\n",
        "\n",
        "For each of the following, write python to generate the Cartesian product, print out the resulting set and its number of elements.\n",
        "\n",
        " * $C = A \\times E$\n",
        " * $C = E \\times A$\n",
        " * $C = E \\times E$"
      ]
    },
    {
      "cell_type": "code",
      "metadata": {
        "id": "zaGBqPjPobcO"
      },
      "source": [
        "# Question 3\n"
      ],
      "execution_count": null,
      "outputs": []
    },
    {
      "cell_type": "markdown",
      "metadata": {
        "id": "HL31e30KobcO"
      },
      "source": [
        "---\n",
        "## Relations\n",
        "\n",
        " * A __Relation__ from set `A` to set `B`, in python can be written as \n",
        "\n",
        "~~~python\n",
        "    R = { (a, b) for a in A for b in B if CONDITION }\n",
        "~~~\n",
        "\n",
        "where\n",
        "\n",
        " * `CONDITION` can be any boolean expression involving `a` and `b`. Or can be dropped entirely.\n",
        "     \n",
        "\n",
        " * A __Relation__ on set `A` in python can be written as \n",
        "\n",
        "~~~python\n",
        "    R = { (a, b) for a in A for b in A if CONDITION }\n",
        "~~~\n",
        "\n",
        " * Again, note the different symbol for the elements from the second set.\n"
      ]
    },
    {
      "cell_type": "markdown",
      "metadata": {
        "id": "miGSbNwvobcO"
      },
      "source": [
        "### Example\n",
        "\n",
        "Consider, $R$, the relation _\"has the same remainder when divided by 5\"_ on the set D (defined in Question 1).  \n",
        "\n",
        " * Implement this relation in python.\n",
        " * Print the relation and its number of elements (pairs).\n",
        " * Verify that $R$ is a subset of $D\\times D$, but is not a subset of $A\\times A$ (defined in Question 1)."
      ]
    },
    {
      "cell_type": "code",
      "metadata": {
        "id": "1hgcwI-xobcO"
      },
      "source": [
        "# Implement this relation in python\n",
        "\n",
        "R = { (a,b) for a in D for b in D if a%5==b%5}"
      ],
      "execution_count": null,
      "outputs": []
    },
    {
      "cell_type": "code",
      "metadata": {
        "id": "W4s5pckBobcP"
      },
      "source": [
        "# Print the relation and its number of elements (pairs)\n",
        "\n",
        "print(\"R =\", R, \"\\nNumber of elements =\", len(R))"
      ],
      "execution_count": null,
      "outputs": []
    },
    {
      "cell_type": "code",
      "metadata": {
        "id": "jEqk-RYyobcP"
      },
      "source": [
        "# Verify that 𝑅 is a subset of DxD\n",
        "\n",
        "DxD = { (a,b) for a in D for b in D }\n",
        "print(\"Is R a subset of DxD?\", R.issubset(DxD) )"
      ],
      "execution_count": null,
      "outputs": []
    },
    {
      "cell_type": "code",
      "metadata": {
        "id": "09WJfLV6obcP"
      },
      "source": [
        "# Verify that 𝑅 is not a subset of AxA \n",
        "\n",
        "AxA = { (a,b) for a in A for b in A }\n",
        "print(\"Is R a subset of AxA?\", R.issubset(AxA) )\n",
        "\n",
        "# (for extra points) Why is R not a subset of AxA? What pairs are \"causing the problem?\" \n",
        "\n",
        "# To answer this we build a set of pairs NOT in AxA\n",
        "\n",
        "pairs = { pair for pair in R if pair not in AxA }\n",
        "\n",
        "print(\"R is not a subset of AxA because R contains the following pairs (which are not in AxA)\", pairs)"
      ],
      "execution_count": null,
      "outputs": []
    },
    {
      "cell_type": "markdown",
      "metadata": {
        "id": "e6QRltySobcP"
      },
      "source": [
        "### Question 4\n",
        "\n",
        "Consider R, a relation from $A$ to $D$ (both defined in Question 1) defined by\n",
        "\n",
        "$$ R = \\{(a,d) \\mid a \\in A, d \\in D, \\text{where}\\  a>d  \\} $$ \n",
        "\n",
        " * Implement $R$ in python\n",
        " * Print out $R$ and its number of elements.\n",
        " * Verify that $R$ is a subset of $A\\times D$, but $R$ is not a subset of $D\\times A$."
      ]
    },
    {
      "cell_type": "code",
      "metadata": {
        "id": "_LP5fsMxobcP"
      },
      "source": [
        "# Question 4\n"
      ],
      "execution_count": null,
      "outputs": []
    },
    {
      "cell_type": "code",
      "metadata": {
        "id": "xpT43tbmobcP"
      },
      "source": [
        ""
      ],
      "execution_count": null,
      "outputs": []
    },
    {
      "cell_type": "code",
      "metadata": {
        "id": "oWMNtkj2obcP"
      },
      "source": [
        ""
      ],
      "execution_count": null,
      "outputs": []
    },
    {
      "cell_type": "markdown",
      "metadata": {
        "id": "m-35SMHHobcP"
      },
      "source": [
        "### Question 5\n",
        "\n",
        "Consider the following relation on the set $A$ (defined in Question 1)\n",
        "\n",
        "$$ R_1 = \\{(a,b) \\mid a \\in A, b \\in A \\text{ where } a=a^2 \\}$$ \n",
        "\n",
        "And consider $R_2$ where \n",
        "\n",
        "$$ R_2 = \\{(a,a^2) \\mid a \\in A \\}$$ \n",
        "\n",
        " * Implement both relations in python and output their elements and size.\n",
        " * Are these relations equal? Why?\n",
        "\n",
        "\n",
        "Note: While $R_2$ is a relation, it is not a relation on $A$ because the expression $a^2$ will produce values not in $A$."
      ]
    },
    {
      "cell_type": "code",
      "metadata": {
        "label": "Q1",
        "id": "v0e4FrxzobcP"
      },
      "source": [
        "# Question 5\n"
      ],
      "execution_count": null,
      "outputs": []
    },
    {
      "cell_type": "code",
      "metadata": {
        "id": "bwLoO5LfobcP"
      },
      "source": [
        ""
      ],
      "execution_count": null,
      "outputs": []
    },
    {
      "cell_type": "markdown",
      "metadata": {
        "id": "Tr_oJPG9obcP"
      },
      "source": [
        "### Question 6\n",
        "\n",
        "Consider, $R$, the relation _\"comes before it in the alphabet\"_ on $V$, the set of vowels (defined in question 1),\n",
        "\n",
        "$$  R = \\{(a,b) \\mid a \\in V, b \\in V \\text{ where } a<b \\} $$\n",
        "\n",
        " * Implement this relation in python. Note operator `<` works with letters (if both are lower (or upper) case)  \n",
        " * Output the relation and its size. \n",
        " * Verify that $R$ is a subset of $V\\times V$."
      ]
    },
    {
      "cell_type": "code",
      "metadata": {
        "label": "Q2",
        "id": "djFsK-0QobcP"
      },
      "source": [
        "# Question 6\n"
      ],
      "execution_count": null,
      "outputs": []
    },
    {
      "cell_type": "markdown",
      "metadata": {
        "id": "CcKA5AcwobcP"
      },
      "source": [
        "---\n",
        "## Properties of Relations (Harder questions)\n",
        "\n",
        "These questions are a little harder as they require you to combine multiple concepts to generate the required result."
      ]
    },
    {
      "cell_type": "markdown",
      "metadata": {
        "id": "DXn0eeARobcP"
      },
      "source": [
        "### Question 7 (reflexive)\n",
        "\n",
        "Consider, $R$, the relation implemented in question 6, i.e.,\n",
        "\n",
        "$$  R = \\{(a,b) \\mid a \\in V, b \\in V \\text{ where } a<b \\} $$\n",
        "\n",
        " * Write code to test whether this relation is reflexive.  \n",
        " \n",
        " \n",
        "Hint: generate a set of pairs of the form $(a,a)$ where $a \\in V$ and check if the generated set is a subset of $R$.\n",
        " "
      ]
    },
    {
      "cell_type": "code",
      "metadata": {
        "label": "Q3",
        "id": "YZKd1CjhobcP"
      },
      "source": [
        "# Question 7\n"
      ],
      "execution_count": null,
      "outputs": []
    },
    {
      "cell_type": "markdown",
      "metadata": {
        "id": "GoQkI01-obcQ"
      },
      "source": [
        "### Question 8 (symmetric)\n",
        "\n",
        "Consider, $R$, the relation implemented in question 6, i.e.,\n",
        "\n",
        "$$  R = \\{(a,b) \\mid a \\in V, b \\in V \\text{ where } a<b \\} $$\n",
        "\n",
        "\n",
        " * Write code to test whether this relation is symmetric. \n",
        " \n",
        "Hint: Generate a set of pairs with the order of the elements reversed. Then check that this set is a subset of $R$.\n",
        "\n",
        "To generate a set of pairs with the order of the elements reversed, you could use\n",
        "\n",
        "~~~python\n",
        "   K = { (b,a) for (a,b)http://www.utstat.toronto.edu/mikevans/jeffrosenthal/book.pdf in R }\n",
        "~~~\n",
        " "
      ]
    },
    {
      "cell_type": "code",
      "metadata": {
        "label": "Q3",
        "id": "IybXeWvCobcQ"
      },
      "source": [
        "# Question 8\n"
      ],
      "execution_count": null,
      "outputs": []
    },
    {
      "cell_type": "markdown",
      "metadata": {
        "id": "BMH-XP09obcQ"
      },
      "source": [
        "---\n",
        "## Optional &mdash; Other properties of Relations (Even Harder questions)\n",
        "\n",
        "Due to time constraints we have not covered the transitive property or the irreflexive, asymmetric, and anti-symmetric properties. All of these properties can be implemented in python using code similar to that used in the previous two questions. Feel free to implement\n"
      ]
    },
    {
      "cell_type": "markdown",
      "metadata": {
        "id": "VpdcGge7obcQ"
      },
      "source": [
        "### Question 9 (transitive)\n",
        "\n",
        "Consider, $R$, the relation implemented in question 6, i.e.,\n",
        "\n",
        "$$  R = \\{(a,b) \\mid a \\in V, b \\in V \\text{ where } a<b \\} $$\n",
        "\n",
        "\n",
        " * Write code to test whether this relation is transitive. "
      ]
    },
    {
      "cell_type": "code",
      "metadata": {
        "id": "uDjwEi8bobcQ"
      },
      "source": [
        "# Question 9\n"
      ],
      "execution_count": null,
      "outputs": []
    },
    {
      "cell_type": "markdown",
      "metadata": {
        "id": "Vm1oxTv-obcQ"
      },
      "source": [
        "### Question 10 (asymmetric)\n",
        "\n",
        "Consider, $R$, the relation implemented in question 6, i.e.,\n",
        "\n",
        "$$  R = \\{(a,b) \\mid a \\in V, b \\in V \\text{ where } a<b \\} $$\n",
        "\n",
        "\n",
        " * Write code to test whether this relation is asymmetric. "
      ]
    },
    {
      "cell_type": "code",
      "metadata": {
        "id": "LkqImU6YobcQ"
      },
      "source": [
        "# Question 10\n"
      ],
      "execution_count": null,
      "outputs": []
    },
    {
      "cell_type": "markdown",
      "metadata": {
        "id": "kW1xTDTnobcQ"
      },
      "source": [
        "### Question 11 (transitive)\n",
        "\n",
        "Consider, $R$, the relation implemented in question 6, i.e.,\n",
        "\n",
        "$$  R = \\{(a,b) \\mid a \\in V, b \\in V \\text{ where } a<b \\} $$\n",
        "\n",
        "\n",
        " * Write code to test whether this relation is transitive. "
      ]
    },
    {
      "cell_type": "code",
      "metadata": {
        "id": "Cx2fyUwDobcQ"
      },
      "source": [
        "# Question 11\n"
      ],
      "execution_count": null,
      "outputs": []
    },
    {
      "cell_type": "markdown",
      "metadata": {
        "id": "ufMvKIZKobcQ"
      },
      "source": [
        "### Question 12 (anti-symmetric)\n",
        "\n",
        "Consider, $R$, the relation implemented in question 6, i.e.,\n",
        "\n",
        "$$  R = \\{(a,b) \\mid a \\in V, b \\in V \\text{ where } a<b \\} $$\n",
        "\n",
        "\n",
        " * Write code to test whether this relation is anti-symmetric. "
      ]
    },
    {
      "cell_type": "code",
      "metadata": {
        "id": "s5_vFEnrobcQ"
      },
      "source": [
        "# Question 12\n"
      ],
      "execution_count": null,
      "outputs": []
    },
    {
      "cell_type": "markdown",
      "metadata": {
        "id": "Fupb7zMXobcQ"
      },
      "source": [
        "---\n",
        "## Review/Feedback (P08)"
      ]
    },
    {
      "cell_type": "code",
      "metadata": {
        "cellView": "form",
        "id": "2TW5QrGFobcQ"
      },
      "source": [
        "#@markdown One of disadvantage of going online is that students can lose out on opportunities to provide feedback on how they think the semester is progressing and in particular for __Discrete Mathematics__, how they easy/difficult, interesting/boring, useful/confusing they find the material. By completing the following you will help us improve our delivery.<br />Please enter your feedback and click on arrow at top-left to save. \n",
        "\n",
        "#@markdown **This practical**\n",
        "\n",
        "#@markdown How difficult did you find this practical?\n",
        "practical_difficulty = 'No opinion' #@param ['No opinion', \"Too easy', 'Easy', 'About right', 'Some bits were hard but overall it was doable', 'Too difficult', 'Impossible']\n",
        "\n",
        "#@markdown Including online session time, how long (in minutes) did it take for you to finish this practical?\n",
        "practical_duration = 0 #@param {type: \"number\"}\n",
        "\n",
        "#@markdown **This week's material**\n",
        "\n",
        "#@markdown How difficult did you find each of the following this week _(0=too easy 3=easy, 5=just right, 7=a bit difficult, 10=impossible)_?\n",
        "lecture_difficulty = 0  #@param {type: \"slider\", min: 0, max: 10}\n",
        "tutorial_questions_difficulty = 0  #@param {type: \"slider\", min: 0, max: 10}\n",
        "\n",
        "#@markdown Use the line below to enter any comments &mdash; what you liked, what you did not like. Again all feedback is welcome.\n",
        "general_comment = \"\" #@param {type: \"string\"}"
      ],
      "execution_count": null,
      "outputs": []
    }
  ]
}