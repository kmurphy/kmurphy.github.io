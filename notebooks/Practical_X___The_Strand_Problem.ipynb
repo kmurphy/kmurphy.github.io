{
 "cells": [
  {
   "cell_type": "markdown",
   "metadata": {
    "colab_type": "text",
    "id": "AgbfEzi-gROK"
   },
   "source": [
    "# Discrete Mathematics &mdash; Practical X &mdash; The Strand Puzzle\n"
   ]
  },
  {
   "cell_type": "markdown",
   "metadata": {
    "colab_type": "text",
    "id": "iNvjpkgCmBkh"
   },
   "source": [
    "## Problem\n",
    "\n",
    "Today we are going to use our knowledge of python to solve a one hundred-year old problem, `The Strand Puzzle`.\n",
    "\n",
    "![](https://drive.google.com/uc?export=view&id=1ycRiE9wr7DCIXkr5KNDZ4iUA1jROYiQw)\n",
    "\n",
    "In a particular seaside town &mdash; not too far away, but shall remain nameless &mdash; there is a street that runs along the strand. On this street all of the houses are one side of the street, facing the sea, and the houses are numbered 1, 2, 3, and so on up to the last house. \n",
    "\n",
    "One of your lecturers &mdash; again shall remain nameless &mdash; lives in one of these houses and during lockdown with nothing to do, noticed that if you add up the house numbers to the left of the lecturer's house you get the same total as when you add up the house numbers to the right of the lecturer's house.\n",
    "\n",
    "Using just this information can you determine number of houses in the street and in which house does the lecturer with no mates live?\n",
    "\n",
    "\n"
   ]
  },
  {
   "cell_type": "markdown",
   "metadata": {
    "colab_type": "text",
    "id": "a4L8qm6QBrgw"
   },
   "source": [
    "## Outline of Approach"
   ]
  },
  {
   "cell_type": "markdown",
   "metadata": {
    "colab_type": "text",
    "id": "7kfPsIuW42oP"
   },
   "source": [
    "### Step 1 &mdash; Convert problem description to mathematical/computational  representation\n",
    "\n",
    "The above problem description is fine for humans to follow, but it needs a more precise representation if we are going to get a computer to analyse it.  First define variables to represent the state:\n",
    "\n",
    " * $n$ is the number of houses on the street.\n",
    " * $k$ is the lecturer's house number.\n",
    "\n",
    " Now, the total of house numbers to the left and to the right of the lecturer's house can be described in terms of $n$ and $k$ as follows\n",
    "\n",
    "$$\n",
    "    \\begin{array}{r@{}c@{}l}\n",
    "    \\text{left of lecturer's house} & & \\text{right of lecturer's house}\\\\\n",
    "    \\longleftarrow && \\longrightarrow\\\\\n",
    "    1 + 2 + 3 + 4 + \\cdots + (k-1) & +\\ k\\ + & (k+1) + (k+2) + \\cdots +(n-1) + (n)\n",
    "    \\end{array}\n",
    "$$\n",
    "\n",
    "If you think about it, you should see that we can treat both totals in terms of summing up positive integers from 1 to some integer value. So let's define function\n",
    "$$\n",
    "   S(x) = 1 + 2 +3 + \\cdots + (x-2) + (x-1) + x\n",
    "$$ \n",
    "Then \n",
    " \n",
    " * the total of the house numbers to the left of the lecturer's house is \n",
    "$$\n",
    "    \\text{left_total} = S(k-1)\n",
    "$$\n",
    "\n",
    " * the total of the house numbers to the right of the lecturer's house is \n",
    "$$\n",
    "    \\text{right_total} = S(n) - S(k-1) - k\n",
    "$$\n",
    "\n",
    "Now: at this point you might (we hope) say _\"Hold on, isn't the formula for calculating the right hand side total a waste of effort given that we add ALL of the house numbers and then subtract all of those on the left. Can't we make this more efficient?\"_. Well, you are 100% correct. This is not efficient. However, it is easy and our primary goal in computational problems is correctness not efficiency.  One we have a correct solution, then we can begin to worry about speeding things up.  Remember, the quote\n",
    "\n",
    "> “Premature optimization is the root of all evil”\n",
    "\n",
    "from [Donald Knuth](https://en.wikipedia.org/wiki/Donald_Knuth), one of the leading figures in the study of computer algorithms.   \n",
    "\n",
    "\n"
   ]
  },
  {
   "cell_type": "markdown",
   "metadata": {
    "colab_type": "text",
    "id": "_oM0r5KcCyXQ"
   },
   "source": [
    "### Step 2 &mdash; Develop algorithms to find solution\n",
    "\n",
    "So let's assume that we have written a function called, say `answer`, which takes two parameters `n` and `k`, as defined above, and returns the right total minus the left total.  In python the function could look like:\n",
    "\n",
    "```.python\n",
    "def answer(n, k):\n",
    "    left_total = 0\n",
    "    right_total = 0\n",
    "\n",
    "    # perform calculation \n",
    "\n",
    "    return  right_total -  left_total\n",
    "```\n",
    "then calling this function with  values for `n` and `k` will return\n",
    "\n",
    " * zero is we have found a suitable pair for `n` and `k`.\n",
    " * a positive number if the total on the left is smaller than the total on right. <br/>(or think of it as our guess, `k`, for lecturer's house is too far to the left.)\n",
    " * a negative number if the total on the left is larger than the total on right.\n",
    " <br/>(or think of it as our guess, `k`, for lecturer's house is too far to the right.)\n",
    " \n",
    "We want to find integer values of `n` and `k` which returns zero. (Note for any particular value of `n` we have no guarantee that a suitable value of `k` exists, since we are dealing with integers.)\n",
    "\n",
    "Algorithm development is more than just programming &mdash; think painting a picture versus painting a wall. In both contexts you are using the same tools, but the first is an _Art_ while the second is a _Skill_.  At this point you have a lot of the components of the _Skill_ &mdash; you know most of the language syntax and programming constructs (i.e. control blocks, loops, functions, etc.).  So how do you develop the _Art_? This comes with experience, hours and hours of experience. However, you can speed up this process by think on terms of [types of algorithms](https://en.wikipedia.org/wiki/List_of_algorithms).\n",
    "\n",
    "There are two types of algorithms that are very suited to computers (and not humans):\n",
    "\n",
    " * Exhaustive search algorithms &mdash; for this problem, this could be implemented as\n",
    "  * we loop over a range of values for $n$ and for $k$ (remember $n\\ge3$ and $1<k<n$) and whenever we find a pair with `answer(n,k)==0` we output message.\n",
    "\n",
    " \n",
    " * Iterative (refining) algorithms &mdash; for this problem, this could be implemented as:\n",
    "   * perform exhaustive search over $n$\n",
    "   * for each `n`\n",
    "     * pick a starting guess for $k$ and use sign on result of function `answer` to lower (or increase) the guess. Repeat until found guess that returns zero or we show no answer exists for this value of `n`. \n",
    "     * Move to next $n$ value.\n",
    "\n",
    "Of these two algorithms the exhaustive search is fastest (and easiest) to implement but is typically much slower than a __good__ iterative solution.  The important word here is __good__ &mdash; when including the greater programmer’s development/debugging time the iterative implementation may not be that much faster. Or worse, if the iterative is buggy it might miss a solution. \n",
    "\n",
    "Final comment (on this long ramble).  Note the 's' in algorithms in the title. Ths goal of this practical is not realy the solution to the problem, it is to help you develop as a programmer. Always try to devise multiple ways to solve a problem before you start coding.\n",
    "\n"
   ]
  },
  {
   "cell_type": "markdown",
   "metadata": {
    "colab_type": "text",
    "id": "U_6JEuFVcF5g"
   },
   "source": [
    "## Tasks\n",
    "\n",
    " * Implement a function, `sum_up_to(x)`, which returns the sum of positive intgers up to and including the integer `x`.\n",
    " * Implement function `answer(n,k)` described above. \n",
    " * Implement an algorithm to find values of `n` and `k` for which the function `answer` returns zero.  \n",
    "   * Hints: There are three solutions for $n<1000$. \n",
    " * (Optional) Using more efficient algorithms, see if you can find seven solutions. Using the exhaustive search the first three solutions are quickly found, after that it gets slower and slower.\n",
    "\n",
    "\n"
   ]
  },
  {
   "cell_type": "markdown",
   "metadata": {
    "colab_type": "text",
    "id": "jnuo8p7bslc0"
   },
   "source": [
    "## Solution\n",
    "\n",
    "This is a minimal, easy solution with no optimisation and no build-up steps.  Lots of variations are possible:\n",
    "\n",
    "  * Could use for loops to compute sum instead of formula.\n",
    "  * Include assertions to trap bad parameters -- they may have seen this in processing by end of semester, but no big deal if not.\n",
    "  * Could include optimisations such as:\n",
    "    * When using nested loop, consider a better start for k instead of $k=2$.\n",
    "    * Why keep searching using bigger k if left total is bigger than right total?\n",
    "\n",
    "\n"
   ]
  },
  {
   "cell_type": "code",
   "execution_count": 14,
   "metadata": {
    "colab": {
     "base_uri": "https://localhost:8080/",
     "height": 34
    },
    "colab_type": "code",
    "id": "YLhSP_IFgQB-",
    "outputId": "cc99f176-3559-4a00-df6e-baad61ce8c74"
   },
   "outputs": [
    {
     "data": {
      "text/plain": [
       "6"
      ]
     },
     "execution_count": 14,
     "metadata": {
      "tags": []
     },
     "output_type": "execute_result"
    }
   ],
   "source": [
    "def sum_up_to(x):\n",
    "  \"\"\"Compute the sum of integers up to and including the given value.\"\"\"\n",
    "\n",
    "  assert x>0, f\"Expected a positive integer to sum up to, but found {x}.\"\n",
    "  return x * (x+1) // 2\n",
    "\n",
    "sum_up_to(3)"
   ]
  },
  {
   "cell_type": "code",
   "execution_count": 15,
   "metadata": {
    "colab": {
     "base_uri": "https://localhost:8080/",
     "height": 34
    },
    "colab_type": "code",
    "id": "8YDAKmJagP8O",
    "outputId": "b7cd2147-3bea-4230-bca1-94d50b36feec"
   },
   "outputs": [
    {
     "data": {
      "text/plain": [
       "0"
      ]
     },
     "execution_count": 15,
     "metadata": {
      "tags": []
     },
     "output_type": "execute_result"
    }
   ],
   "source": [
    "def answer(n,k):\n",
    "  assert n>1, f\"There must be at least one house on the street, but was given {n}.\"\n",
    "  assert 1<k<n, f\"The lecturer's house, {k}, must have houses to either side of it, so must be bigger than 1 and less than {n}.\"\n",
    "\n",
    "  left_total = sum_up_to(k-1)\n",
    "\n",
    "  street_total = sum_up_to(n)\n",
    "  right_total = street_total - k - left_total\n",
    "\n",
    "  return right_total - left_total\n",
    "\n",
    "answer(6,3) # the first answer "
   ]
  },
  {
   "cell_type": "markdown",
   "metadata": {
    "colab_type": "text",
    "id": "F8cnuzlrCtgQ"
   },
   "source": []
  },
  {
   "cell_type": "code",
   "execution_count": 17,
   "metadata": {
    "colab": {
     "base_uri": "https://localhost:8080/",
     "height": 68
    },
    "colab_type": "code",
    "id": "CWkhyMq6gP4a",
    "outputId": "53320886-aa88-4ddc-d452-130c83ad2696"
   },
   "outputs": [
    {
     "name": "stdout",
     "output_type": "stream",
     "text": [
      "There are 8 houses and the lecturer lives at house 6\n",
      "There are 49 houses and the lecturer lives at house 35\n",
      "There are 288 houses and the lecturer lives at house 204\n"
     ]
    }
   ],
   "source": [
    "for n in range(3,1000):\n",
    "  for k in range(2, n-1):\n",
    "    if  answer(n,k)==0:\n",
    "      print(f\"There are {n} houses and the lecturer lives at house {k}\")"
   ]
  },
  {
   "cell_type": "code",
   "execution_count": null,
   "metadata": {
    "colab": {},
    "colab_type": "code",
    "id": "FfQfXBTsgPqN"
   },
   "outputs": [],
   "source": []
  },
  {
   "cell_type": "markdown",
   "metadata": {
    "colab_type": "text",
    "id": "5dEiHOsFg221"
   },
   "source": [
    "## Review/Feedback"
   ]
  },
  {
   "cell_type": "code",
   "execution_count": null,
   "metadata": {
    "cellView": "form",
    "colab": {},
    "colab_type": "code",
    "id": "FmFFDcM9forS"
   },
   "outputs": [],
   "source": [
    "#@markdown One of disavantage of going online is that students can lose out on oppurtunities to provide feedback on how they think the seemster is progressing and in particular for __Discrete Mathematics__, how they easy/difficult, interesting/boring, useful/confusing they find the material. By completing the following you will help us improve our delivery.\n",
    "\n",
    "#@markdown **This practical**\n",
    "\n",
    "#@markdown How difficult did you find this practical?\n",
    "practical_difficulty = 'No opinion' #@param ['No opinion', \"Too easy', 'Easy', 'About right', 'Some bits were hard but overall it was doable', 'Too difficult', 'Impossible']\n",
    "\n",
    "#@markdown Including online session time, how long (in minutes) did it take for you to finish this practical?\n",
    "practical_duration = 0 #@param {type: \"number\"}\n",
    "\n",
    "#@markdown **This week's material**\n",
    "\n",
    "#@markdown How difficult did you find each of the following this week _(0=too easy 3=easy, 5=just right, 7=a bit difficult, 10=impossible)_?\n",
    "lecture_difficulty = 0  #@param {type: \"slider\", min: 0, max: 10}\n",
    "tutorial_questions_difficulty = 0  #@param {type: \"slider\", min: 0, max: 10}\n",
    "\n",
    "#@markdown Use the line below to enter any comments &mdash; what you liked, what you did not like. Again all feedback is welcome.\n",
    "general_comment = \"\" #@param {type: \"string\"}\n",
    "#@markdown ---"
   ]
  },
  {
   "cell_type": "code",
   "execution_count": null,
   "metadata": {
    "colab": {},
    "colab_type": "code",
    "id": "PyoBKu4wf0Ad"
   },
   "outputs": [],
   "source": []
  }
 ],
 "metadata": {
  "colab": {
   "collapsed_sections": [],
   "name": "Practical_X_-_The_Strand_Problem.ipynb",
   "provenance": [],
   "toc_visible": true
  },
  "kernelspec": {
   "display_name": "Python 3",
   "language": "python",
   "name": "python3"
  },
  "language_info": {
   "codemirror_mode": {
    "name": "ipython",
    "version": 3
   },
   "file_extension": ".py",
   "mimetype": "text/x-python",
   "name": "python",
   "nbconvert_exporter": "python",
   "pygments_lexer": "ipython3",
   "version": "3.8.6"
  }
 },
 "nbformat": 4,
 "nbformat_minor": 4
}
