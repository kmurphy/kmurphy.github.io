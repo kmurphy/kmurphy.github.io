{
 "cells": [
  {
   "cell_type": "markdown",
   "metadata": {
    "id": "Dajafvz5obcM",
    "label": "title"
   },
   "source": [
    "# Practical 08 - Relations - Solution"
   ]
  },
  {
   "cell_type": "markdown",
   "metadata": {
    "id": "dGUHvpDUobcN",
    "label": "setup"
   },
   "source": [
    "## Setup"
   ]
  },
  {
   "cell_type": "code",
   "execution_count": null,
   "metadata": {
    "cellView": "form",
    "id": "CXsnfskuobcN",
    "label": "bio"
   },
   "outputs": [],
   "source": [
    "#@markdown **Please enter your following details and press Shift-Enter to save:**\n",
    "your_student_number = '' #@param {type: \"string\"}\n",
    "your_name = '' #@param {type: \"string\"}"
   ]
  },
  {
   "cell_type": "code",
   "execution_count": null,
   "metadata": {
    "id": "gI-1sOMPobcN",
    "label": "setup"
   },
   "outputs": [],
   "source": [
    "# setup magic, do not edit this cell! Just press Shift+Enter or click on arrow at top-left\n",
    "\n",
    "import urllib.request\n",
    "content = urllib.request.urlretrieve (\"https://kmurphy.bitbucket.io/modules/Discrete_Mathematics/resources/setup_practical_magic.py\")\n",
    "exec(open(content[0]).read())\n",
    "setup_practical(locals())"
   ]
  },
  {
   "cell_type": "markdown",
   "metadata": {
    "id": "gIumxI6cobcN",
    "label": "Introduction"
   },
   "source": [
    "---\n",
    "## Introduction\n",
    "\n",
    "In this practical we will construct relations and use python to verify their properties"
   ]
  },
  {
   "cell_type": "markdown",
   "metadata": {
    "id": "33Q2c3APobcN"
   },
   "source": [
    "### Mathematics Concepts\n",
    "\n",
    "**Cartesian product**\n",
    "\n",
    " * The __Cartesian product__ of two sets, $A$ and $B$, is \n",
    "$$A \\times B = \\{ (a,b) \\mid  a\\in A, b\\in B\\}$$\n",
    "or in English, it is the set of pairs of __ordered__ values. \"Ordered\" means that the first value in the pair is from the first set, $A$, and the second value is from the second set $B$.\n",
    "\n",
    " * The __Cartesian product__ of a set, $A$ with itself is \n",
    "$$A \\times A = \\{ (a,b) \\mid a\\in A, b\\in A\\}$$\n",
    "or in English, it is the set of pairs of ordered values, the first value is from set $A$ and the second value is from set $A$.\n",
    "\n",
    "**Relations**\n",
    "\n",
    "  * A __relation__ from set $A$ to set $B$ is a subset of the __Cartesian product__ $A \\times B$. \n",
    "    * Hence we can use the subset property to check if something is a relation or not. \n",
    "    * General expression for a relation from set $A$ to set $B$ is \n",
    "    $$ R = \\{ (a,b) \\mid  a\\in A, b\\in B\\ \\text{with}\\ SOME\\_CONDITION \\} $$ \n",
    "  \n",
    "  * Relations on a set have properties such as (check your notes for precise definitions).\n",
    "    * symmetric, reflexive, transitive\n",
    "    * irreflexive, asymmetric, anti-symmetric\n",
    "    \n"
   ]
  },
  {
   "cell_type": "markdown",
   "metadata": {
    "id": "0vNLy3ZBobcO"
   },
   "source": [
    "### Python Concepts\n",
    "\n",
    " * Cartesian product\n",
    " * Relations\n",
    "   * Checking relations using the `issubset` property of sets.\n",
    "   * Checking properties of relations using python programming\n",
    "\n",
    "From earlier practicals:\n",
    "\n",
    " * Set builder notation, check membership using `in` operator.\n",
    " * Using `len` to check for cardinality.\n",
    " * Using sets to check for duplicates &mdash; remember converting a `list` to `set` and results in fewer elements if there are duplicates.\n",
    "\n",
    " "
   ]
  },
  {
   "cell_type": "markdown",
   "metadata": {
    "id": "gE6P3C-VobcO"
   },
   "source": [
    "---\n",
    "## Cartesian Product  \n",
    "\n",
    " * The __Cartesian product__ of two sets, `A` and `B`, in python is \n",
    "\n",
    "~~~python\n",
    "    { (a,b) for a in A for b in B }\n",
    "~~~\n",
    "\n",
    " * The __Cartesian product__ of a set, `A` with itself, in python is \n",
    "\n",
    "~~~python\n",
    "    { (a,b) for a in A for b in A }\n",
    "~~~\n",
    "   Note: Just like in the Mathematics version above we needed to use a second symbol (here `b`) to represent the second value in the ordered pair.\n",
    "\n",
    "Finally to output the number of elements in a set (or a relation), `S`, we can use a `print` call.\n",
    "\n",
    "~~~python\n",
    "print(\"Number of elements in S =\", len(S))\n",
    "~~~"
   ]
  },
  {
   "cell_type": "markdown",
   "metadata": {
    "id": "t1PZ9jnUobcO"
   },
   "source": [
    "### Question 1\n",
    "\n",
    "To simply matters later we will start by defining some sets that will be used in subsequent questions.\n",
    "\n",
    "Define the following sets in python, and print them with a label and print out its size. (this first set is done for you).\n",
    "\n",
    " * Define set `A`, the set of positive integers less than or equal to 20, i.e., $A = \\{1,\\ldots,20\\}$\n",
    " * Define set `P`, the set of prime numbers less than or equal to 20. (there are only 8 so you can just list them)\n",
    " * Define set `V`, the set of lowercase vowels. Remember you need the put characters within quotes in python.\n",
    " * Define set `D`, the set of digits (0 to 9).\n",
    " * Define set `E`, the empty set.\n"
   ]
  },
  {
   "cell_type": "code",
   "execution_count": 4,
   "metadata": {
    "id": "atuZEJKEobcO",
    "label": "Q0"
   },
   "outputs": [
    {
     "name": "stdout",
     "output_type": "stream",
     "text": [
      "A = {1, 2, 3, 4, 5, 6, 7, 8, 9, 10, 11, 12, 13, 14, 15, 16, 17, 18, 19, 20} \n",
      "Number of elements = 20\n",
      "P = {2, 3, 5, 7, 11, 13, 17, 19} \n",
      "Number of elements = 8\n",
      "P = {2, 3, 5, 7, 11, 13, 17, 19} \n",
      "Number of elements = 8\n",
      "D = {0, 1, 2, 3, 4, 5, 6, 7, 8, 9} \n",
      "Number of elements = 10\n",
      "E = set() \n",
      "Number of elements = 0\n"
     ]
    }
   ],
   "source": [
    "# Question 1\n",
    "\n",
    "A = set(range(1,21))\n",
    "print(\"A =\", A, \"\\nNumber of elements =\", len(A))\n",
    "P = {2,3,5,7,11,13,17,19}\n",
    "print(\"P =\", P, \"\\nNumber of elements =\", len(P))\n",
    "V = {\"a\",\"e\",\"i\",\"o\",\"u\"}\n",
    "print(\"P =\", P, \"\\nNumber of elements =\", len(P))\n",
    "D = set(range(10))\n",
    "print(\"D =\", D, \"\\nNumber of elements =\", len(D))\n",
    "E = set()\n",
    "print(\"E =\", E, \"\\nNumber of elements =\", len(E))"
   ]
  },
  {
   "cell_type": "markdown",
   "metadata": {
    "id": "dRvaBCsLobcO"
   },
   "source": [
    "### Question 2\n",
    "\n",
    "Define set `C` as the Cartesian product of the set `A` and the set `V` (from Question 1). \n",
    "Print out `C` and print out the size of `C`.\n",
    "\n",
    "Notes on answer:\n",
    "\n",
    " * The Cartesian set becomes very large when input sets are large.\n",
    " * The pairs contain ordered values - \"ordered\" is not the same as \"sorted\". Ordered here means that within each pair the first value (a number) comes form the first set, and the second value (a letter) comes from the second set. \n",
    " * The \"pairs contain ordered values\" is different to saying \"the pairs are ordered\". In fact, since a Cartesian product is a set the  order of the pairs is not a concern."
   ]
  },
  {
   "cell_type": "code",
   "execution_count": 5,
   "metadata": {
    "id": "eC0CoL88obcO"
   },
   "outputs": [
    {
     "name": "stdout",
     "output_type": "stream",
     "text": [
      "C = {(6, 'e'), (4, 'u'), (6, 'o'), (5, 'a'), (13, 'i'), (8, 'u'), (19, 'u'), (4, 'o'), (8, 'e'), (19, 'e'), (8, 'o'), (19, 'o'), (1, 'i'), (11, 'a'), (3, 'i'), (14, 'i'), (16, 'i'), (17, 'a'), (11, 'u'), (1, 'a'), (20, 'i'), (15, 'u'), (11, 'o'), (15, 'e'), (15, 'o'), (9, 'i'), (17, 'u'), (4, 'e'), (17, 'o'), (20, 'a'), (7, 'a'), (18, 'a'), (10, 'i'), (5, 'u'), (5, 'e'), (9, 'a'), (5, 'o'), (12, 'i'), (13, 'a'), (7, 'u'), (18, 'u'), (7, 'e'), (18, 'e'), (7, 'o'), (18, 'o'), (9, 'u'), (10, 'a'), (13, 'u'), (9, 'o'), (13, 'e'), (11, 'e'), (13, 'o'), (2, 'i'), (3, 'a'), (14, 'a'), (6, 'i'), (1, 'u'), (17, 'e'), (1, 'e'), (16, 'a'), (1, 'o'), (8, 'i'), (19, 'i'), (3, 'u'), (14, 'u'), (3, 'e'), (14, 'e'), (3, 'o'), (14, 'o'), (16, 'u'), (6, 'a'), (20, 'u'), (16, 'o'), (20, 'e'), (20, 'o'), (9, 'e'), (11, 'i'), (12, 'a'), (15, 'i'), (10, 'u'), (10, 'e'), (10, 'o'), (17, 'i'), (4, 'i'), (12, 'u'), (12, 'e'), (12, 'o'), (15, 'a'), (2, 'a'), (5, 'i'), (16, 'e'), (4, 'a'), (7, 'i'), (8, 'a'), (18, 'i'), (2, 'u'), (19, 'a'), (2, 'e'), (6, 'u'), (2, 'o')} \n",
      "Number of elements = 100\n"
     ]
    }
   ],
   "source": [
    "# Question 2\n",
    "C = { (a,v) for a in A for v in V}\n",
    "print(\"C =\", C, \"\\nNumber of elements =\", len(C))"
   ]
  },
  {
   "cell_type": "markdown",
   "metadata": {
    "id": "5shfOgLsobcO"
   },
   "source": [
    "### Question 3 (Cartesian product with empty sets)\n",
    "\n",
    "For each of the following, write python to generate the Cartesian product, print out the resulting set and its number of elements.\n",
    "\n",
    " * $C = A \\times E$\n",
    " * $C = E \\times A$\n",
    " * $C = E \\times E$"
   ]
  },
  {
   "cell_type": "code",
   "execution_count": 7,
   "metadata": {
    "id": "zaGBqPjPobcO"
   },
   "outputs": [
    {
     "name": "stdout",
     "output_type": "stream",
     "text": [
      "C = set() \n",
      "Number of elements = 0\n",
      "C = set() \n",
      "Number of elements = 0\n",
      "C = set() \n",
      "Number of elements = 0\n"
     ]
    }
   ],
   "source": [
    "# Question 3\n",
    "C = { (a,e) for a in A for e in E}\n",
    "print(\"C =\", C, \"\\nNumber of elements =\", len(C))\n",
    "C = { (e,a) for e in E for a in A}\n",
    "print(\"C =\", C, \"\\nNumber of elements =\", len(C))\n",
    "C = { (e,a) for e in E for a in E}\n",
    "print(\"C =\", C, \"\\nNumber of elements =\", len(C))"
   ]
  },
  {
   "cell_type": "markdown",
   "metadata": {
    "id": "HL31e30KobcO"
   },
   "source": [
    "---\n",
    "## Relations\n",
    "\n",
    " * A __Relation__ from set `A` to set `B`, in python can be written as \n",
    "\n",
    "~~~python\n",
    "    R = { (a, b) for a in A for b in B if CONDITION }\n",
    "~~~\n",
    "\n",
    "where\n",
    "\n",
    " * `CONDITION` can be any boolean expression involving `a` and `b`. Or can be dropped entirely.\n",
    "     \n",
    "\n",
    " * A __Relation__ on set `A` in python can be written as \n",
    "\n",
    "~~~python\n",
    "    R = { (a, b) for a in A for b in A if CONDITION }\n",
    "~~~\n",
    "\n",
    " * Again, note the different symbol for the elements from the second set.\n"
   ]
  },
  {
   "cell_type": "markdown",
   "metadata": {
    "id": "miGSbNwvobcO"
   },
   "source": [
    "### Example\n",
    "\n",
    "Consider, $R$, the relation _\"has the same remainder when divided by 5\"_ on the set D (defined in Question 1).  \n",
    "\n",
    " * Implement this relation in python.\n",
    " * Print the relation and its number of elements (pairs).\n",
    " * Verify that $R$ is a subset of $D\\times D$, but is not a subset of $A\\times A$ (defined in Question 1)."
   ]
  },
  {
   "cell_type": "code",
   "execution_count": null,
   "metadata": {
    "id": "1hgcwI-xobcO"
   },
   "outputs": [],
   "source": [
    "# Implement this relation in python\n",
    "\n",
    "R = { (a,b) for a in D for b in D if a%5==b%5}"
   ]
  },
  {
   "cell_type": "code",
   "execution_count": null,
   "metadata": {
    "id": "W4s5pckBobcP"
   },
   "outputs": [],
   "source": [
    "# Print the relation and its number of elements (pairs)\n",
    "\n",
    "print(\"R =\", R, \"\\nNumber of elements =\", len(R))"
   ]
  },
  {
   "cell_type": "code",
   "execution_count": null,
   "metadata": {
    "id": "jEqk-RYyobcP"
   },
   "outputs": [],
   "source": [
    "# Verify that 𝑅 is a subset of DxD\n",
    "\n",
    "DxD = { (a,b) for a in D for b in D }\n",
    "print(\"Is R a subset of DxD?\", R.issubset(DxD) )"
   ]
  },
  {
   "cell_type": "code",
   "execution_count": null,
   "metadata": {
    "id": "09WJfLV6obcP"
   },
   "outputs": [],
   "source": [
    "# Verify that 𝑅 is not a subset of AxA \n",
    "\n",
    "AxA = { (a,b) for a in A for b in A }\n",
    "print(\"Is R a subset of AxA?\", R.issubset(AxA) )\n",
    "\n",
    "# (for extra points) Why is R not a subset of AxA? What pairs are \"causing the problem?\" \n",
    "\n",
    "# To answer this we build a set of pairs NOT in AxA\n",
    "\n",
    "pairs = { pair for pair in R if pair not in AxA }\n",
    "\n",
    "print(\"R is not a subset of AxA because R contains the following pairs (which are not in AxA)\", pairs)"
   ]
  },
  {
   "cell_type": "markdown",
   "metadata": {
    "id": "e6QRltySobcP"
   },
   "source": [
    "### Question 4\n",
    "\n",
    "Consider R, a relation from $A$ to $D$ (both defined in Question 1) defined by\n",
    "\n",
    "$$ R = \\{(a,d) \\mid a \\in A, d \\in D, \\text{where}\\  a>d  \\} $$ \n",
    "\n",
    " * Implement $R$ in python\n",
    " * Print out $R$ and its number of elements.\n",
    " * Verify that $R$ is a subset of $A\\times D$, but $R$ is not a subset of $D\\times A$."
   ]
  },
  {
   "cell_type": "code",
   "execution_count": 12,
   "metadata": {
    "id": "_LP5fsMxobcP"
   },
   "outputs": [
    {
     "name": "stdout",
     "output_type": "stream",
     "text": [
      "R = {(12, 4), (4, 0), (5, 1), (8, 0), (17, 3), (19, 0), (19, 9), (10, 6), (9, 8), (11, 5), (13, 8), (15, 5), (6, 2), (7, 1), (18, 1), (4, 2), (5, 3), (8, 2), (17, 5), (9, 1), (19, 2), (11, 7), (13, 1), (15, 7), (6, 4), (16, 6), (7, 3), (18, 3), (14, 8), (17, 7), (8, 4), (19, 4), (9, 3), (11, 0), (11, 9), (13, 3), (15, 0), (15, 9), (16, 8), (7, 5), (18, 5), (20, 8), (3, 1), (14, 1), (17, 0), (17, 9), (19, 6), (9, 5), (11, 2), (13, 5), (15, 2), (16, 1), (18, 7), (20, 1), (12, 6), (14, 3), (5, 0), (17, 2), (9, 7), (11, 4), (10, 8), (13, 7), (15, 4), (6, 1), (16, 3), (7, 0), (18, 0), (18, 9), (20, 3), (12, 8), (14, 5), (5, 2), (17, 4), (9, 0), (10, 1), (13, 0), (13, 9), (15, 6), (16, 5), (7, 2), (18, 2), (20, 5), (12, 1), (14, 7), (5, 4), (9, 2), (8, 6), (10, 3), (1, 0), (13, 2), (16, 7), (7, 4), (18, 4), (20, 7), (12, 3), (3, 0), (14, 0), (14, 9), (19, 8), (10, 5), (13, 4), (2, 1), (16, 0), (16, 9), (20, 0), (20, 9), (12, 5), (3, 2), (14, 2), (4, 1), (8, 1), (19, 1), (10, 7), (11, 6), (16, 2), (6, 3), (20, 2), (12, 7), (14, 4), (4, 3), (17, 6), (8, 3), (10, 0), (19, 3), (10, 9), (11, 8), (16, 4), (15, 8), (6, 5), (20, 4), (12, 0), (12, 9), (14, 6), (17, 8), (8, 5), (10, 2), (9, 4), (11, 1), (19, 5), (15, 1), (20, 6), (7, 6), (18, 6), (12, 2), (17, 1), (8, 7), (10, 4), (9, 6), (11, 3), (2, 0), (19, 7), (13, 6), (15, 3), (6, 0), (18, 8)} \n",
      "Number of elements = 155\n",
      "Is R a subset of AxD? True\n",
      "Is R a subset of DxA? False\n",
      "R is not a subset of DxA because R contains the following pairs (which are not in DxA)\n",
      " {(12, 4), (4, 0), (17, 3), (8, 0), (19, 0), (19, 9), (10, 6), (11, 5), (13, 8), (15, 5), (18, 1), (17, 5), (19, 2), (11, 7), (13, 1), (15, 7), (16, 6), (18, 3), (14, 8), (17, 7), (19, 4), (11, 0), (11, 9), (13, 3), (15, 0), (15, 9), (16, 8), (18, 5), (20, 8), (14, 1), (17, 0), (17, 9), (19, 6), (11, 2), (13, 5), (15, 2), (16, 1), (18, 7), (20, 1), (12, 6), (14, 3), (5, 0), (17, 2), (11, 4), (10, 8), (13, 7), (15, 4), (16, 3), (7, 0), (18, 0), (18, 9), (20, 3), (12, 8), (14, 5), (17, 4), (9, 0), (10, 1), (13, 0), (13, 9), (15, 6), (16, 5), (18, 2), (20, 5), (12, 1), (14, 7), (10, 3), (1, 0), (13, 2), (16, 7), (18, 4), (20, 7), (12, 3), (3, 0), (14, 0), (14, 9), (19, 8), (10, 5), (13, 4), (16, 0), (16, 9), (20, 0), (20, 9), (12, 5), (14, 2), (19, 1), (10, 7), (11, 6), (16, 2), (20, 2), (12, 7), (14, 4), (17, 6), (19, 3), (10, 0), (10, 9), (11, 8), (16, 4), (15, 8), (20, 4), (12, 0), (12, 9), (14, 6), (17, 8), (19, 5), (10, 2), (11, 1), (15, 1), (20, 6), (18, 6), (12, 2), (17, 1), (19, 7), (10, 4), (11, 3), (2, 0), (13, 6), (15, 3), (6, 0), (18, 8)}\n"
     ]
    }
   ],
   "source": [
    "# Question 4\n",
    "\n",
    "# Implement 𝑅 in python\n",
    "R = {(a,d) for a in A for d in D if a>d}\n",
    "\n",
    "# Print out R and its number of elements\n",
    "print(\"R =\", R, \"\\nNumber of elements =\", len(R))\n",
    "\n",
    "# Verify that R is a subset of A x D\n",
    "AxD = { (a,d) for a in A for d in D }\n",
    "print(\"Is R a subset of AxD?\", R.issubset(AxD) )\n",
    "\n",
    "# Verify that R is not a subset of D x A\n",
    "DxA = { (d,a) for d in D for a in A }\n",
    "print(\"Is R a subset of DxA?\", R.issubset(DxA) )\n",
    "\n",
    "pairs = { pair for pair in R if pair not in DxA }\n",
    "\n",
    "print(\"R is not a subset of DxA because R contains the following pairs (which are not in DxA)\\n\", pairs)"
   ]
  },
  {
   "cell_type": "markdown",
   "metadata": {
    "id": "m-35SMHHobcP"
   },
   "source": [
    "### Question 5\n",
    "\n",
    "Consider the following relation on the set $A$ (defined in Question 1)\n",
    "\n",
    "$$ R_1 = \\{(a,b) \\mid a \\in A, b \\in A \\text{ where } b=a^2 \\}$$ \n",
    "\n",
    "And consider $R_2$ where \n",
    "\n",
    "$$ R_2 = \\{(a,a^2) \\mid a \\in A \\}$$ \n",
    "\n",
    " * Implement both relations in python and output their elements and size.\n",
    " * Are these relations equal? Why?\n",
    "\n",
    "\n",
    "Note: While $R_2$ is a relation, it is not a relation on $A$ because the expression $a^2$ will produce values not in $A$."
   ]
  },
  {
   "cell_type": "code",
   "execution_count": 16,
   "metadata": {
    "id": "v0e4FrxzobcP",
    "label": "Q1"
   },
   "outputs": [
    {
     "name": "stdout",
     "output_type": "stream",
     "text": [
      "R1 = {(1, 1), (3, 9), (2, 4), (4, 16)} \n",
      "Number of elements = 4\n",
      "R2 = {(14, 196), (12, 144), (8, 64), (6, 36), (11, 121), (15, 225), (5, 25), (9, 81), (17, 289), (18, 324), (10, 100), (3, 9), (13, 169), (7, 49), (2, 4), (20, 400), (16, 256), (4, 16), (19, 361), (1, 1)} \n",
      "Number of elements = 20\n"
     ]
    }
   ],
   "source": [
    "# Question 5\n",
    "R1 = {(a,b) for a in A for b in A if b==a**2}\n",
    "print(\"R1 =\", R1, \"\\nNumber of elements =\", len(R1))\n",
    "\n",
    "R2 = {(a,a**2) for a in A for b in A }\n",
    "print(\"R2 =\", R2, \"\\nNumber of elements =\", len(R2))\n"
   ]
  },
  {
   "cell_type": "markdown",
   "metadata": {
    "id": "bwLoO5LfobcP"
   },
   "source": [
    "Relations R1 and R2 are not equal, R2 contains extra pairs."
   ]
  },
  {
   "cell_type": "markdown",
   "metadata": {
    "id": "Tr_oJPG9obcP"
   },
   "source": [
    "### Question 6\n",
    "\n",
    "Consider, $R$, the relation _\"comes before it in the alphabet\"_ on $V$, the set of vowels (defined in question 1),\n",
    "\n",
    "$$  R = \\{(a,b) \\mid a \\in V, b \\in V \\text{ where } a<b \\} $$\n",
    "\n",
    " * Implement this relation in python. Note operator `<` works with letters (if both are lower (or upper) case)  \n",
    " * Output the relation and its size. \n",
    " * Verify that $R$ is a subset of $V\\times V$."
   ]
  },
  {
   "cell_type": "code",
   "execution_count": 19,
   "metadata": {
    "id": "djFsK-0QobcP",
    "label": "Q2"
   },
   "outputs": [
    {
     "name": "stdout",
     "output_type": "stream",
     "text": [
      "R = {('a', 'o'), ('o', 'u'), ('e', 'i'), ('i', 'o'), ('e', 'u'), ('a', 'i'), ('a', 'u'), ('e', 'o'), ('i', 'u'), ('a', 'e')} \n",
      "Number of elements = 10\n"
     ]
    }
   ],
   "source": [
    "# Question 6\n",
    "R = {(a,b) for a in V for b in V if a<b}\n",
    "print(\"R =\", R, \"\\nNumber of elements =\", len(R))"
   ]
  },
  {
   "cell_type": "markdown",
   "metadata": {
    "id": "CcKA5AcwobcP"
   },
   "source": [
    "---\n",
    "## Properties of Relations (Harder questions)\n",
    "\n",
    "These questions are a little harder as they require you to combine multiple concepts to generate the required result."
   ]
  },
  {
   "cell_type": "markdown",
   "metadata": {
    "id": "DXn0eeARobcP"
   },
   "source": [
    "### Question 7 (reflexive)\n",
    "\n",
    "Consider, $R$, the relation implemented in question 6, i.e.,\n",
    "\n",
    "$$  R = \\{(a,b) \\mid a \\in V, b \\in V \\text{ where } a<b \\} $$\n",
    "\n",
    " * Write code to test whether this relation is reflexive.  \n",
    " \n",
    " \n",
    "Hint: generate a set of pairs of the form $(a,a)$ where $a \\in V$ and check if the generated set is a subset of $R$.\n",
    " "
   ]
  },
  {
   "cell_type": "code",
   "execution_count": 25,
   "metadata": {
    "id": "YZKd1CjhobcP",
    "label": "Q3"
   },
   "outputs": [
    {
     "name": "stdout",
     "output_type": "stream",
     "text": [
      "Is R reflexive ? False\n",
      "In order for R to be reflexive we need to add pairs\n",
      " {(20, 20), (2, 2), (11, 11), (7, 7), (16, 16), (3, 3), (12, 12), (8, 8), (17, 17), (13, 13), (18, 18), (4, 4), (5, 5), (14, 14), (9, 9), (1, 1), (10, 10), (19, 19), (6, 6), (15, 15)}\n"
     ]
    }
   ],
   "source": [
    "# Question 7\n",
    "\n",
    "R = {(a,b) for a in V for b in V if a<b}\n",
    "\n",
    "# A relation, R, on a set A, is said to be reflexive iff (a, a)∈R  ∀a ∈ A\n",
    "# So python test for reflexive = we generate a set of all self-loops and see if that is a subset of R\n",
    "\n",
    "self_loops = { (a,a) for a in A }\n",
    "print(\"Is R reflexive ?\", self_loops.issubset(R))\n",
    "\n",
    "# for extra (virtual points) what self-loops are missing ?\n",
    "missing_pairs = self_loops.difference(R)\n",
    "print(\"In order for R to be reflexive we need to add pairs\\n\", missing_pairs )"
   ]
  },
  {
   "cell_type": "markdown",
   "metadata": {
    "id": "GoQkI01-obcQ"
   },
   "source": [
    "### Question 8 (symmetric)\n",
    "\n",
    "Consider, $R$, the relation implemented in question 6, i.e.,\n",
    "\n",
    "$$  R = \\{(a,b) \\mid a \\in V, b \\in V \\text{ where } a<b \\} $$\n",
    "\n",
    "\n",
    " * Write code to test whether this relation is symmetric. \n",
    " \n",
    "Hint: Generate a set of pairs with the order of the elements reversed. Then check that this set is a subset of $R$.\n",
    "\n",
    "To generate a set of pairs with the order of the elements reversed, you could use\n",
    "\n",
    "~~~python\n",
    "   K = { (b,a) for (a,b) in R }\n",
    "~~~\n",
    " "
   ]
  },
  {
   "cell_type": "code",
   "execution_count": null,
   "metadata": {
    "id": "IybXeWvCobcQ",
    "label": "Q3"
   },
   "outputs": [],
   "source": [
    "# Question 8\n"
   ]
  },
  {
   "cell_type": "markdown",
   "metadata": {
    "id": "BMH-XP09obcQ"
   },
   "source": [
    "---\n",
    "## Optional &mdash; Other properties of Relations (Even Harder questions)\n",
    "\n",
    "Due to time constraints we have not covered the transitive property or the irreflexive, asymmetric, and anti-symmetric properties. All of these properties can be implemented in python using code similar to that used in the previous two questions. Feel free to implement\n"
   ]
  },
  {
   "cell_type": "markdown",
   "metadata": {
    "id": "VpdcGge7obcQ"
   },
   "source": [
    "### Question 9 (transitive)\n",
    "\n",
    "Consider, $R$, the relation implemented in question 6, i.e.,\n",
    "\n",
    "$$  R = \\{(a,b) \\mid a \\in V, b \\in V \\text{ where } a<b \\} $$\n",
    "\n",
    "\n",
    " * Write code to test whether this relation is transitive. "
   ]
  },
  {
   "cell_type": "code",
   "execution_count": null,
   "metadata": {
    "id": "uDjwEi8bobcQ"
   },
   "outputs": [],
   "source": [
    "# Question 9\n"
   ]
  },
  {
   "cell_type": "markdown",
   "metadata": {
    "id": "Vm1oxTv-obcQ"
   },
   "source": [
    "### Question 10 (asymmetric)\n",
    "\n",
    "Consider, $R$, the relation implemented in question 6, i.e.,\n",
    "\n",
    "$$  R = \\{(a,b) \\mid a \\in V, b \\in V \\text{ where } a<b \\} $$\n",
    "\n",
    "\n",
    " * Write code to test whether this relation is asymmetric. "
   ]
  },
  {
   "cell_type": "code",
   "execution_count": null,
   "metadata": {
    "id": "LkqImU6YobcQ"
   },
   "outputs": [],
   "source": [
    "# Question 10\n"
   ]
  },
  {
   "cell_type": "markdown",
   "metadata": {
    "id": "kW1xTDTnobcQ"
   },
   "source": [
    "### Question 11 (transitive)\n",
    "\n",
    "Consider, $R$, the relation implemented in question 6, i.e.,\n",
    "\n",
    "$$  R = \\{(a,b) \\mid a \\in V, b \\in V \\text{ where } a<b \\} $$\n",
    "\n",
    "\n",
    " * Write code to test whether this relation is transitive. "
   ]
  },
  {
   "cell_type": "code",
   "execution_count": null,
   "metadata": {
    "id": "Cx2fyUwDobcQ"
   },
   "outputs": [],
   "source": [
    "# Question 11\n"
   ]
  },
  {
   "cell_type": "markdown",
   "metadata": {
    "id": "ufMvKIZKobcQ"
   },
   "source": [
    "### Question 12 (anti-symmetric)\n",
    "\n",
    "Consider, $R$, the relation implemented in question 6, i.e.,\n",
    "\n",
    "$$  R = \\{(a,b) \\mid a \\in V, b \\in V \\text{ where } a<b \\} $$\n",
    "\n",
    "\n",
    " * Write code to test whether this relation is anti-symmetric. "
   ]
  },
  {
   "cell_type": "code",
   "execution_count": null,
   "metadata": {
    "id": "s5_vFEnrobcQ"
   },
   "outputs": [],
   "source": [
    "# Question 12\n"
   ]
  },
  {
   "cell_type": "markdown",
   "metadata": {
    "id": "Fupb7zMXobcQ"
   },
   "source": [
    "---\n",
    "## Review/Feedback (P08)"
   ]
  },
  {
   "cell_type": "code",
   "execution_count": null,
   "metadata": {
    "cellView": "form",
    "id": "2TW5QrGFobcQ"
   },
   "outputs": [],
   "source": [
    "#@markdown One of disadvantage of going online is that students can lose out on opportunities to provide feedback on how they think the semester is progressing and in particular for __Discrete Mathematics__, how they easy/difficult, interesting/boring, useful/confusing they find the material. By completing the following you will help us improve our delivery.<br />Please enter your feedback and click on arrow at top-left to save. \n",
    "\n",
    "#@markdown **This practical**\n",
    "\n",
    "#@markdown How difficult did you find this practical?\n",
    "practical_difficulty = 'No opinion' #@param ['No opinion', \"Too easy', 'Easy', 'About right', 'Some bits were hard but overall it was doable', 'Too difficult', 'Impossible']\n",
    "\n",
    "#@markdown Including online session time, how long (in minutes) did it take for you to finish this practical?\n",
    "practical_duration = 0 #@param {type: \"number\"}\n",
    "\n",
    "#@markdown **This week's material**\n",
    "\n",
    "#@markdown How difficult did you find each of the following this week _(0=too easy 3=easy, 5=just right, 7=a bit difficult, 10=impossible)_?\n",
    "lecture_difficulty = 0  #@param {type: \"slider\", min: 0, max: 10}\n",
    "tutorial_questions_difficulty = 0  #@param {type: \"slider\", min: 0, max: 10}\n",
    "\n",
    "#@markdown Use the line below to enter any comments &mdash; what you liked, what you did not like. Again all feedback is welcome.\n",
    "general_comment = \"\" #@param {type: \"string\"}"
   ]
  }
 ],
 "metadata": {
  "colab": {
   "name": "Copy of Discrete_Maths_P08_-_Relations.ipynb",
   "provenance": []
  },
  "kernelspec": {
   "display_name": "Python 3",
   "language": "python",
   "name": "python3"
  },
  "language_info": {
   "codemirror_mode": {
    "name": "ipython",
    "version": 3
   },
   "file_extension": ".py",
   "mimetype": "text/x-python",
   "name": "python",
   "nbconvert_exporter": "python",
   "pygments_lexer": "ipython3",
   "version": "3.9.0"
  },
  "toc": {
   "toc_cell": false,
   "toc_number_sections": true,
   "toc_threshold": 6,
   "toc_window_display": false
  },
  "toc-autonumbering": false
 },
 "nbformat": 4,
 "nbformat_minor": 4
}
