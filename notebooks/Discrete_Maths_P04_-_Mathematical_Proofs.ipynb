{
 "cells": [
  {
   "cell_type": "markdown",
   "metadata": {
    "label": "title"
   },
   "source": [
    "# Practical 04 - Logic 3 (Applications)"
   ]
  },
  {
   "cell_type": "markdown",
   "metadata": {
    "label": "setup"
   },
   "source": [
    "## Setup"
   ]
  },
  {
   "cell_type": "markdown",
   "metadata": {
    "label": "Introduction"
   },
   "source": [
    "## Introduction"
   ]
  },
  {
   "cell_type": "markdown",
   "metadata": {},
   "source": [
    "In this practical we will look at a selection of problems that will require logic or the proof techniques that we have covered in the lectures.\n",
    " \n",
    "  * Use truth table to check expressions.\n",
    "  * Proof by cases.\n"
   ]
  },
  {
   "cell_type": "markdown",
   "metadata": {},
   "source": [
    "### Mathematics Concepts\n",
    "\n",
    " * Fundamental logical connectives __not__ ($\\lnot$), __and__ ($\\land$), and __or__ ($\\lor$).\n",
    " * Satisfiability, tautologies and contradictions.\n",
    " * Proof by cases."
   ]
  },
  {
   "cell_type": "markdown",
   "metadata": {},
   "source": [
    "### Python Concepts\n",
    "\n",
    " * Logical operators `not`, `and`, and `or`.\n",
    " * Generating a truth table using `TruthTable`.\n",
    " "
   ]
  },
  {
   "cell_type": "markdown",
   "metadata": {},
   "source": [
    "## Application: Designing Alarm Circuits\n",
    "\n",
    "![](https://kmurphy.github.io/notebooks/nuclear_alarms.png)\n",
    "\n",
    "In a nuclear power station there are $n$ sensors to indicate various warnings in the power plant.  The sensors are prone to generating false warnings so we want to design a logic circuit whose output is on (`1` or `True`) only when at least two of the sensors are on (`1` or `True`).   In order to save costs we want to design the circuit with as few logic gates (`and`, `or` and `not`) as possible. \n",
    "\n",
    "In each of the questions below, \n",
    " \n",
    "  * Design a suitable logic gate matching the specifications. \n",
    "  * Use the corresponding logical proposition to describe the logical circuit you designed.\n",
    "  * Generate the truth table to verify that the circuit will operate as claimed.\n",
    "\n",
    "Remember: If you want `0`/`1`, instead of `False`/`True` as output to `TruthTable` you insert parameter `ints=True` as follows\n",
    "\n",
    "~~~python\n",
    "TruthTable(\"A or B\", ints=True)\n",
    "~~~\n",
    "will produce\n",
    "\n",
    "|A|B|A or B|\n",
    "|-|-|------|\n",
    "|0|0|0|\n",
    "|0|1|1|\n",
    "|1|0|1|\n",
    "|1|1|1|\n"
   ]
  },
  {
   "cell_type": "markdown",
   "metadata": {},
   "source": [
    "### Question 1\n",
    "\n",
    "If $n=2$ design the circuit using `and` ($\\land$) gates only.\n",
    "\n",
    "In other words:\n",
    "\n",
    " * Build circuit with two inputs, `a` and `b`.\n",
    " * such that the output is __on__ (`1`/`True`) only when at least two inputs is __on__ (`1`/`True`).\n",
    " * Verify circuit using a truth table. \n",
    "     In other words check that in every row in which at least two inputs are `True` then and only then the output is `True`."
   ]
  },
  {
   "cell_type": "code",
   "execution_count": 10,
   "metadata": {
    "label": "Q1"
   },
   "outputs": [
    {
     "name": "stdout",
     "output_type": "stream",
     "text": [
      "This is not a valid logical expression. Check brackets, case and spelling.\n"
     ]
    }
   ],
   "source": [
    "# Quesiton 1\n",
    "# store proposition representing circuit in string p\n",
    "\n",
    "p = \"\" \n",
    "TruthTable(p, ints=True)"
   ]
  },
  {
   "cell_type": "markdown",
   "metadata": {},
   "source": [
    "### Question 2\n",
    "\n",
    "If $n=2$ design the circuit using `or` ($\\lor$) and `not` ($\\lnot$) gates only."
   ]
  },
  {
   "cell_type": "code",
   "execution_count": null,
   "metadata": {
    "label": "Q2"
   },
   "outputs": [],
   "source": [
    "# Question 2\n",
    "# store proposition representing circuit in string p\n",
    "\n",
    "p = \"\"\n",
    "TruthTable(p)"
   ]
  },
  {
   "cell_type": "markdown",
   "metadata": {},
   "source": [
    "### Question 3\n",
    "\n",
    "If $n=3$ design the circuit using `and` ($\\land$) gates only."
   ]
  },
  {
   "cell_type": "code",
   "execution_count": 13,
   "metadata": {
    "label": "Q3"
   },
   "outputs": [
    {
     "name": "stdout",
     "output_type": "stream",
     "text": [
      "This is not a valid logical expression. Check brackets, case and spelling.\n"
     ]
    }
   ],
   "source": [
    "# Question 3\n",
    "# store proposition representing circuit in string p\n",
    "\n",
    "p = \"\"\n",
    "TruthTable(p)"
   ]
  },
  {
   "cell_type": "markdown",
   "metadata": {},
   "source": [
    "### Question 4\n",
    "\n",
    "If $n=4$ design the circuit using fewest number of gates."
   ]
  },
  {
   "cell_type": "code",
   "execution_count": 14,
   "metadata": {
    "label": "Q3"
   },
   "outputs": [
    {
     "name": "stdout",
     "output_type": "stream",
     "text": [
      "This is not a valid logical expression. Check brackets, case and spelling.\n"
     ]
    }
   ],
   "source": [
    "# Question 4\n",
    "# store proposition representing circuit in string p\n",
    "\n",
    "p = \"\"\n",
    "TruthTable(p)"
   ]
  },
  {
   "cell_type": "markdown",
   "metadata": {},
   "source": [
    "### Question 5\n",
    "\n",
    "If $n=8$ estimate the number of gates need based on your design for the $n=4$ case.  You don't have to build the circuit, but please feel free to do so if you wish."
   ]
  },
  {
   "cell_type": "code",
   "execution_count": 15,
   "metadata": {
    "label": "Q4"
   },
   "outputs": [],
   "source": [
    "# Question 5\n",
    "gates = 0"
   ]
  },
  {
   "cell_type": "markdown",
   "metadata": {
    "note": "https://philosophy.hku.hk/think/logic/knights.php"
   },
   "source": [
    "## Application: Trust/Reputation Algorithms (aka Knights and Knaves)\n",
    "\n",
    "Note: All of these problems are framed as puzzles, but they form the basis of [trust/reputation systems](http://home.ifi.uio.no/josang/papers/Jos2007-FOSAD.pdf).  \n",
    "\n",
    "A very special island is inhabited only by knights and knaves, who look identical. Knights always tell the truth, and knaves always lie.  You are given a set of statements and you need to decide their truth value and identify who are knights and who are knaves.  \n",
    "\n",
    "The general approach to solving these problems is to apply proof by cases &mdash; but here we will get python to do the boring work of building up the truth table where each row is a separate case.  Our task is to take the English sentences and rewrite them as logical propositions.\n",
    "\n",
    "\n",
    "**Example**\n",
    "\n",
    "You meet two inhabitants: Alice and Bob.\n",
    "\n",
    " * Alice tells you that \"Bob is a knave\". \n",
    " * Bob says, \"Neither Alice nor I are knaves.\"  \n",
    " \n",
    "So who is a knight and who is a knave?\n",
    "\n",
    "**Answer**\n",
    "\n",
    "First we want to translate the above statements into logical propositions. In terms of the two inhabitants, Alice and Bob we have propositions:\n",
    "\n",
    " * \\\\(A\\\\) = \"Alice is a knight\"\n",
    " * \\\\(B\\\\) = \"Bob is a knight\"\n",
    "\n",
    "so \"\\\\(\\lnot A\\\\)\" means \"Alice is not a knight\" i.e. \"Alice is a knave\", etc.\n",
    "\n",
    "And translating each of the statements that Alice and Bob made we have\n",
    "\n",
    " * \"Bob is a knave\" \\\\(\\iff\\\\)\"Bob is a not a knight\" \n",
    "\\\\[S_1 = \\lnot B\\\\]\n",
    "\n",
    " * \"Neither Alice nor I are knaves.\" \n",
    "     \\\\(\\iff\\\\)\"Alice is not a knave and Bob is not a knave\" \n",
    "     \\\\(\\iff\\\\)\"Alice is knight and Bob is a knight\" \n",
    "\n",
    "\\\\[S_2 = A \\land B\\\\]\n",
    "\n",
    "Next, we try proof by cases.  We look at all possible combinations of Alice and Bob being knights and being knaves, remembering that knights always speak the truth while knaves always lie.\n",
    "\n",
    "In terms of Alice, Alice is a knight and tells the truth OR Alice is a knave and tells falsehoods:\n",
    "\n",
    "_Alice_\n",
    "\\\\[\n",
    "    \\bigg(A \\land (\\lnot B) \\bigg) \\lor \\bigg(\\lnot A \\land \\lnot(\\lnot B) \\bigg)\n",
    "    = \\big(A \\land \\lnot B \\big) \\lor \\big(\\lnot A \\land B \\big)\n",
    "\\\\]\n",
    "\n",
    "_Bob_\n",
    "\\\\[\n",
    "    \\bigg(B \\land (A \\land B) \\bigg) \\lor \\bigg(\\lnot B \\land \\lnot(A \\land B) \\bigg)\n",
    "    = \\big(B \\land A \\land B\\big) \\lor \\big(\\lnot B \\land \\lnot(A \\land B) \\big)\n",
    "\\\\]\n",
    "\n",
    "Combining both (remember both must be true, so used AND) to get a single proposition, \n",
    "\n",
    "\\\\[\n",
    "   \\bigg((A \\land \\lnot B) \\lor (\\lnot A \\land B)\\bigg)\n",
    "   \\land\n",
    "   \\bigg(\n",
    "   (B \\land A \\land B) \\lor (\\lnot B \\land \\lnot(A \\land B))\n",
    "   \\bigg)\n",
    "\\\\]\n",
    "(notice that I simplified it a bit, using the rules of logic) which we test using a truth table.\n",
    "\n",
    "~~~~.python\n",
    "TruthTable(\"((A and not B) or (not A and B)) and((B and A and B) or (not B and not(A and B)))\")\n",
    "~~~~\n",
    "and get output \n",
    "\n",
    "|A|B|((A and not B) or (not A and B)) and((B and A and B) or (not B and not(A and B)))|\n",
    "|----|----|----|\n",
    "|False|False|False|\n",
    "|False|True|False|\n",
    "|True|False|True|\n",
    "|True|True|False|\n",
    "\n",
    "The expression is true for only one set of inputs\n",
    "\n",
    " * \\\\(A=True\\\\), so Alice is a knight\n",
    " * \\\\(B=False\\\\), so Bob is a knave\n"
   ]
  },
  {
   "cell_type": "markdown",
   "metadata": {},
   "source": [
    "### Question 6\n",
    "\n",
    "A very special island is inhabited only by knights and knaves. Knights always tell the truth, and knaves always lie. You meet three inhabitants: Alice, Rex and Bob, where\n",
    "\n",
    " * Alice tells you that \"Rex is a knave\". \n",
    " * Rex tells you that \"it's false that Bob is a knave\". \n",
    " * Bob claims, \"I am a knight or Alice is a knight.\"\n",
    " \n",
    "So who is a knight and who is a knave?"
   ]
  },
  {
   "cell_type": "code",
   "execution_count": 16,
   "metadata": {
    "label": "Q5a"
   },
   "outputs": [
    {
     "name": "stdout",
     "output_type": "stream",
     "text": [
      "This is not a valid logical expression. Check brackets, case and spelling.\n"
     ]
    }
   ],
   "source": [
    "# Question 6\n",
    "p = \"\"\n",
    "TruthTable(p)"
   ]
  },
  {
   "cell_type": "code",
   "execution_count": 21,
   "metadata": {
    "label": "Q5b"
   },
   "outputs": [],
   "source": [
    "# Question 6\n",
    "# state whether Alice, Rex, Bob are knights, put A=True if Alice is a knight and A=False otherwise, etc for R and B \n",
    "A = None\n",
    "R = None\n",
    "B = None"
   ]
  },
  {
   "cell_type": "markdown",
   "metadata": {},
   "source": [
    "### Question 7 &mdash; Optional Question \n",
    "\n",
    "**This question is optional and so there are no CA marks going for this.**\n",
    "\n",
    "A very special island is inhabited only by knights and knaves. Knights always tell the truth, and knaves always lie.\n",
    "\n",
    "You meet three inhabitants: Peggy, Joe and Zippy.\n",
    "\n",
    " * Peggy claims, \"I am a knight or Joe is a knave.\"\n",
    " * Joe tells you, \"Peggy is a knight and Zippy is a knave.\"\n",
    " * Zippy says, \"I and Joe are different.\"\n",
    "\n",
    "Determine who is a knight and who is a knave?"
   ]
  },
  {
   "cell_type": "code",
   "execution_count": 17,
   "metadata": {
    "label": "Q5a"
   },
   "outputs": [
    {
     "name": "stdout",
     "output_type": "stream",
     "text": [
      "This is not a valid logical expression. Check brackets, case and spelling.\n"
     ]
    }
   ],
   "source": [
    "# Question 7\n",
    "\n",
    "p = \"\"\n",
    "TruthTable(p)"
   ]
  },
  {
   "cell_type": "code",
   "execution_count": 22,
   "metadata": {
    "label": "Q5b"
   },
   "outputs": [],
   "source": [
    "# Question 7 - state whether Peggy, Joe, Zippy are knights\n",
    "P = None\n",
    "J = None\n",
    "Z = None"
   ]
  },
  {
   "cell_type": "code",
   "execution_count": null,
   "metadata": {},
   "outputs": [],
   "source": []
  }
 ],
 "metadata": {
  "kernelspec": {
   "display_name": "Python 3",
   "language": "python",
   "name": "python3"
  },
  "language_info": {
   "codemirror_mode": {
    "name": "ipython",
    "version": 3
   },
   "file_extension": ".py",
   "mimetype": "text/x-python",
   "name": "python",
   "nbconvert_exporter": "python",
   "pygments_lexer": "ipython3",
   "version": "3.7.7"
  },
  "toc": {
   "toc_cell": false,
   "toc_number_sections": true,
   "toc_threshold": 6,
   "toc_window_display": false
  }
 },
 "nbformat": 4,
 "nbformat_minor": 4
}
